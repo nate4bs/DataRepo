{
  "nbformat": 4,
  "nbformat_minor": 0,
  "metadata": {
    "kernelspec": {
      "display_name": "Python [conda env:Py-PT]",
      "language": "python",
      "name": "conda-env-Py-PT-py"
    },
    "language_info": {
      "codemirror_mode": {
        "name": "ipython",
        "version": 3
      },
      "file_extension": ".py",
      "mimetype": "text/x-python",
      "name": "python",
      "nbconvert_exporter": "python",
      "pygments_lexer": "ipython3",
      "version": "3.6.10"
    },
    "colab": {
      "name": "Q-Learning Atari Breakout.ipynb",
      "provenance": []
    },
    "accelerator": "GPU"
  },
  "cells": [
    {
      "cell_type": "code",
      "metadata": {
        "id": "XTb3ywsvrxrF",
        "colab_type": "code",
        "colab": {}
      },
      "source": [
        "import numpy as np\n",
        "import torch\n",
        "import time\n",
        "from torch import nn\n",
        "import gym\n",
        "import cv2\n",
        "import copy\n",
        "import matplotlib.pyplot as plt\n",
        "from IPython import display\n",
        "\n",
        "%matplotlib inline"
      ],
      "execution_count": 0,
      "outputs": []
    },
    {
      "cell_type": "code",
      "metadata": {
        "id": "6XAz8RHlrxrP",
        "colab_type": "code",
        "colab": {
          "base_uri": "https://localhost:8080/",
          "height": 52
        },
        "outputId": "fee8184d-bbae-40d5-eec2-f1f3c01b4414"
      },
      "source": [
        "env = gym.make('BreakoutDeterministic-v4')\n",
        "print('Action space:', env.action_space)\n",
        "print('Observation space:', env.observation_space)"
      ],
      "execution_count": 2,
      "outputs": [
        {
          "output_type": "stream",
          "text": [
            "Action space: Discrete(4)\n",
            "Observation space: Box(210, 160, 3)\n"
          ],
          "name": "stdout"
        }
      ]
    },
    {
      "cell_type": "code",
      "metadata": {
        "id": "bbMPEWx0rxrX",
        "colab_type": "code",
        "colab": {}
      },
      "source": [
        "N_FRAMES = 4\n",
        "\n",
        "def filter_obs(obs, resize_shape=(84, 110), crop_shape=None):\n",
        "    assert(type(obs) == np.ndarray), \"The observation must be a numpy array!\"\n",
        "    assert(len(obs.shape) == 3), \"The observation must be a 3D array!\"\n",
        "\n",
        "    obs = cv2.resize(obs, resize_shape, interpolation=cv2.INTER_LINEAR)\n",
        "    obs = cv2.cvtColor(obs, cv2.COLOR_BGR2GRAY)\n",
        "    obs = obs / 255.\n",
        "    if crop_shape:\n",
        "        crop_x_margin = (resize_shape[1] - crop_shape[1]) // 2\n",
        "        crop_y_margin = (resize_shape[0] - crop_shape[0]) // 2\n",
        "        \n",
        "        x_start, x_end = crop_x_margin, resize_shape[1] - crop_x_margin\n",
        "        y_start, y_end = crop_y_margin, resize_shape[0] - crop_y_margin\n",
        "        \n",
        "        obs = obs[x_start:x_end, y_start:y_end]\n",
        "    \n",
        "    return obs\n",
        "\n",
        "def get_stacked_obs(obs, prev_frames):\n",
        "    if not prev_frames:\n",
        "        prev_frames = [obs] * (N_FRAMES - 1)\n",
        "        \n",
        "    prev_frames.append(obs)\n",
        "    stacked_frames = np.stack(prev_frames)\n",
        "    prev_frames = prev_frames[-(N_FRAMES-1):]\n",
        "    \n",
        "    return stacked_frames, prev_frames\n",
        "\n",
        "def preprocess_obs(obs, prev_frames):\n",
        "    filtered_obs = filter_obs(obs)\n",
        "    stacked_obs, prev_frames = get_stacked_obs(filtered_obs, prev_frames)\n",
        "    return stacked_obs, prev_frames\n",
        "\n",
        "def format_reward(reward):\n",
        "    if reward > 0:\n",
        "        return 1\n",
        "    elif reward < 0:\n",
        "        return -1\n",
        "    return 0"
      ],
      "execution_count": 0,
      "outputs": []
    },
    {
      "cell_type": "code",
      "metadata": {
        "id": "z5tScLmkrxrd",
        "colab_type": "code",
        "colab": {}
      },
      "source": [
        "# Original Paper\n",
        "class DQN(nn.Module):\n",
        "    def __init__(self, n_acts):\n",
        "        super(DQN, self).__init__()\n",
        "        \n",
        "        self.layer1 = nn.Sequential(\n",
        "            nn.Conv2d(N_FRAMES, 16, kernel_size=8, stride=4, padding=0),\n",
        "            nn.ReLU())\n",
        "        self.layer2 = nn.Sequential(\n",
        "            nn.Conv2d(16, 32, kernel_size=4, stride=2, padding=0),\n",
        "            nn.ReLU())\n",
        "        self.layer3 = nn.Sequential(\n",
        "            nn.Linear(32 * 12 * 9, 256),\n",
        "            nn.ReLU())\n",
        "        self.layer4 = nn.Sequential(\n",
        "            nn.Linear(256, n_acts))\n",
        "        \n",
        "    def forward(self, obs):\n",
        "        q_values = self.layer1(obs)\n",
        "        q_values = self.layer2(q_values)\n",
        "        \n",
        "        # 2015 model: (32, 8x8, 4), (64, 4x4, 2), (64, 3x3, 1), (512)\n",
        "        q_values = q_values.view(-1, 32 * 12 * 9)\n",
        "        q_values = self.layer3(q_values)\n",
        "        q_values = self.layer4(q_values)\n",
        "        \n",
        "        return q_values\n",
        "    \n",
        "    def train_on_batch(self, optimizer, obs, acts, rewards, next_obs, terminals, gamma=0.99):\n",
        "        next_q_values = self.forward(next_obs)\n",
        "        max_next_q_values = torch.max(next_q_values, dim=1)[0].detach()\n",
        "        \n",
        "        terminal_mods = 1 - terminals\n",
        "        actual_qs = rewards + terminal_mods * gamma * max_next_q_values\n",
        "            \n",
        "        pred_qs = self.forward(obs)\n",
        "        pred_qs = pred_qs.gather(index=acts.view(-1, 1), dim=1).view(-1)\n",
        "        \n",
        "        loss = torch.mean((actual_qs - pred_qs) ** 2)\n",
        "        \n",
        "        optimizer.zero_grad()\n",
        "        loss.backward()\n",
        "        optimizer.step()"
      ],
      "execution_count": 0,
      "outputs": []
    },
    {
      "cell_type": "code",
      "metadata": {
        "id": "YkskDza0rxrj",
        "colab_type": "code",
        "colab": {}
      },
      "source": [
        "class ExperienceReplay():\n",
        "    def __init__(self, capacity):\n",
        "        self.capacity = capacity\n",
        "        self.data = []\n",
        "        \n",
        "    def add_step(self, step_data):\n",
        "        self.data.append(step_data)\n",
        "        if len(self.data) > self.capacity:\n",
        "            self.data = self.data[-self.capacity:]\n",
        "            \n",
        "    def sample(self, n):\n",
        "        n = min(n, len(self.data))\n",
        "        indices = np.random.choice(range(len(self.data)), n, replace=False)\n",
        "        samples = np.asarray(self.data)[indices]\n",
        "        \n",
        "        state_data = torch.tensor(np.stack(samples[:, 0])).float().cuda()\n",
        "        act_data = torch.tensor(np.stack(samples[:, 1])).long().cuda()\n",
        "        reward_data = torch.tensor(np.stack(samples[:, 2])).float().cuda()\n",
        "        next_state_data = torch.tensor(np.stack(samples[:, 3])).float().cuda()\n",
        "        terminal_data = torch.tensor(np.stack(samples[:, 4])).float().cuda()\n",
        "        \n",
        "        return state_data, act_data, reward_data, next_state_data, terminal_data"
      ],
      "execution_count": 0,
      "outputs": []
    },
    {
      "cell_type": "code",
      "metadata": {
        "id": "b0mGgFu-rxrp",
        "colab_type": "code",
        "colab": {}
      },
      "source": [
        "n_episodes = 100000\n",
        "max_steps = 1000\n",
        "er_capacity = 150000 # 1m in paper\n",
        "n_acts = env.action_space.n # 0: no-op, 1: start game, 2: right, 3: left\n",
        "train_batch_size = 32\n",
        "learning_rate = 2.5e-4\n",
        "print_freq = 100\n",
        "update_freq = 4\n",
        "frame_skip = 3\n",
        "n_anneal_steps = 1e5 # Anneal over 1m steps in paper\n",
        "epsilon = lambda step: np.clip(1 - 0.9 * (step/n_anneal_steps), 0.1, 1) # Anneal over 1m steps in paper, 100k here"
      ],
      "execution_count": 0,
      "outputs": []
    },
    {
      "cell_type": "code",
      "metadata": {
        "id": "oFDgAnNrrxrw",
        "colab_type": "code",
        "colab": {
          "base_uri": "https://localhost:8080/",
          "height": 582
        },
        "outputId": "183af344-1be3-40f5-e233-58cfa6c1a5c1"
      },
      "source": [
        "er = ExperienceReplay(er_capacity)\n",
        "model = DQN(n_acts=env.action_space.n).cuda()\n",
        "optimizer = torch.optim.RMSprop(model.parameters(), lr=learning_rate, eps=1e-6)\n",
        "all_rewards = []\n",
        "# img = plt.imshow(env.render(mode='rgb_array'))\n",
        "global_step = 0\n",
        "\n",
        "for episode in range(n_episodes):\n",
        "    prev_frames = []\n",
        "    obs, prev_frames = preprocess_obs(env.reset(), prev_frames)\n",
        "    \n",
        "    episode_reward = 0\n",
        "    step = 0\n",
        "    while step < max_steps:\n",
        "\n",
        "        ### Enact a step ###\n",
        "        \n",
        "        if np.random.rand() < epsilon(global_step):\n",
        "            act = np.random.choice(range(n_acts))\n",
        "        else:\n",
        "            obs_tensor = torch.tensor([obs]).float().cuda()\n",
        "            q_values = model(obs_tensor)[0]\n",
        "            q_values = q_values.cpu().detach().numpy()\n",
        "            act = np.argmax(q_values)\n",
        "        \n",
        "        cumulative_reward = 0\n",
        "        for _ in range(frame_skip):\n",
        "            next_obs, reward, done, _ = env.step(act)\n",
        "            cumulative_reward += reward\n",
        "            if done or step >= max_steps:\n",
        "                break\n",
        "        episode_reward += cumulative_reward\n",
        "        reward = format_reward(cumulative_reward)\n",
        "\n",
        "        next_obs, prev_frames = preprocess_obs(next_obs, prev_frames)\n",
        "        er.add_step([obs, act, reward, next_obs, int(done)])\n",
        "        obs = next_obs\n",
        "        \n",
        "        ### Train on a minibatch ###\n",
        "\n",
        "        if global_step % update_freq == 0:\n",
        "            obs_data, act_data, reward_data, next_obs_data, terminal_data = er.sample(train_batch_size)\n",
        "            model.train_on_batch(optimizer, obs_data, act_data, reward_data, next_obs_data, terminal_data)\n",
        "        \n",
        "        step += 1\n",
        "        global_step += 1\n",
        "        \n",
        "        if done:\n",
        "            break\n",
        "            \n",
        "    all_rewards.append(episode_reward)\n",
        "    \n",
        "    if episode % print_freq == 0:\n",
        "        print('Episode #{} | Step #{} | Epsilon {:.2f} | Avg. Reward {:.2f}'.format(\n",
        "            episode, global_step, epsilon(global_step), np.mean(all_rewards[-print_freq:])))"
      ],
      "execution_count": 7,
      "outputs": [
        {
          "output_type": "stream",
          "text": [
            "Episode #0 | Step #68 | Epsilon 1.00 | Avg. Reward 0.00\n",
            "Episode #100 | Step #7139 | Epsilon 0.94 | Avg. Reward 1.34\n",
            "Episode #200 | Step #14120 | Epsilon 0.87 | Avg. Reward 1.37\n",
            "Episode #300 | Step #21423 | Epsilon 0.81 | Avg. Reward 1.47\n",
            "Episode #400 | Step #28437 | Epsilon 0.74 | Avg. Reward 1.24\n",
            "Episode #500 | Step #35898 | Epsilon 0.68 | Avg. Reward 1.66\n",
            "Episode #600 | Step #43865 | Epsilon 0.61 | Avg. Reward 1.94\n",
            "Episode #700 | Step #51774 | Epsilon 0.53 | Avg. Reward 2.29\n",
            "Episode #800 | Step #60485 | Epsilon 0.46 | Avg. Reward 3.14\n",
            "Episode #900 | Step #69017 | Epsilon 0.38 | Avg. Reward 2.18\n",
            "Episode #1000 | Step #77898 | Epsilon 0.30 | Avg. Reward 2.28\n",
            "Episode #1100 | Step #86417 | Epsilon 0.22 | Avg. Reward 2.61\n",
            "Episode #1200 | Step #95795 | Epsilon 0.14 | Avg. Reward 2.43\n",
            "Episode #1300 | Step #104907 | Epsilon 0.10 | Avg. Reward 2.23\n",
            "Episode #1400 | Step #113586 | Epsilon 0.10 | Avg. Reward 2.39\n",
            "Episode #1500 | Step #123142 | Epsilon 0.10 | Avg. Reward 2.08\n",
            "Episode #1600 | Step #132102 | Epsilon 0.10 | Avg. Reward 2.35\n",
            "Episode #1700 | Step #140982 | Epsilon 0.10 | Avg. Reward 2.24\n",
            "Episode #1800 | Step #149668 | Epsilon 0.10 | Avg. Reward 1.60\n",
            "Episode #1900 | Step #158512 | Epsilon 0.10 | Avg. Reward 1.72\n"
          ],
          "name": "stdout"
        },
        {
          "output_type": "error",
          "ename": "KeyboardInterrupt",
          "evalue": "ignored",
          "traceback": [
            "\u001b[0;31m---------------------------------------------------------------------------\u001b[0m",
            "\u001b[0;31mKeyboardInterrupt\u001b[0m                         Traceback (most recent call last)",
            "\u001b[0;32m<ipython-input-7-f73e20ec1e7c>\u001b[0m in \u001b[0;36m<module>\u001b[0;34m()\u001b[0m\n\u001b[1;32m     19\u001b[0m             \u001b[0mact\u001b[0m \u001b[0;34m=\u001b[0m \u001b[0mnp\u001b[0m\u001b[0;34m.\u001b[0m\u001b[0mrandom\u001b[0m\u001b[0;34m.\u001b[0m\u001b[0mchoice\u001b[0m\u001b[0;34m(\u001b[0m\u001b[0mrange\u001b[0m\u001b[0;34m(\u001b[0m\u001b[0mn_acts\u001b[0m\u001b[0;34m)\u001b[0m\u001b[0;34m)\u001b[0m\u001b[0;34m\u001b[0m\u001b[0;34m\u001b[0m\u001b[0m\n\u001b[1;32m     20\u001b[0m         \u001b[0;32melse\u001b[0m\u001b[0;34m:\u001b[0m\u001b[0;34m\u001b[0m\u001b[0;34m\u001b[0m\u001b[0m\n\u001b[0;32m---> 21\u001b[0;31m             \u001b[0mobs_tensor\u001b[0m \u001b[0;34m=\u001b[0m \u001b[0mtorch\u001b[0m\u001b[0;34m.\u001b[0m\u001b[0mtensor\u001b[0m\u001b[0;34m(\u001b[0m\u001b[0;34m[\u001b[0m\u001b[0mobs\u001b[0m\u001b[0;34m]\u001b[0m\u001b[0;34m)\u001b[0m\u001b[0;34m.\u001b[0m\u001b[0mfloat\u001b[0m\u001b[0;34m(\u001b[0m\u001b[0;34m)\u001b[0m\u001b[0;34m.\u001b[0m\u001b[0mcuda\u001b[0m\u001b[0;34m(\u001b[0m\u001b[0;34m)\u001b[0m\u001b[0;34m\u001b[0m\u001b[0;34m\u001b[0m\u001b[0m\n\u001b[0m\u001b[1;32m     22\u001b[0m             \u001b[0mq_values\u001b[0m \u001b[0;34m=\u001b[0m \u001b[0mmodel\u001b[0m\u001b[0;34m(\u001b[0m\u001b[0mobs_tensor\u001b[0m\u001b[0;34m)\u001b[0m\u001b[0;34m[\u001b[0m\u001b[0;36m0\u001b[0m\u001b[0;34m]\u001b[0m\u001b[0;34m\u001b[0m\u001b[0;34m\u001b[0m\u001b[0m\n\u001b[1;32m     23\u001b[0m             \u001b[0mq_values\u001b[0m \u001b[0;34m=\u001b[0m \u001b[0mq_values\u001b[0m\u001b[0;34m.\u001b[0m\u001b[0mcpu\u001b[0m\u001b[0;34m(\u001b[0m\u001b[0;34m)\u001b[0m\u001b[0;34m.\u001b[0m\u001b[0mdetach\u001b[0m\u001b[0;34m(\u001b[0m\u001b[0;34m)\u001b[0m\u001b[0;34m.\u001b[0m\u001b[0mnumpy\u001b[0m\u001b[0;34m(\u001b[0m\u001b[0;34m)\u001b[0m\u001b[0;34m\u001b[0m\u001b[0;34m\u001b[0m\u001b[0m\n",
            "\u001b[0;31mKeyboardInterrupt\u001b[0m: "
          ]
        }
      ]
    },
    {
      "cell_type": "code",
      "metadata": {
        "id": "P5Dg2lb8rxr3",
        "colab_type": "code",
        "colab": {}
      },
      "source": [
        "prev_frames = []\n",
        "obs, prev_frames = preprocess_obs(env.reset(), prev_frames)\n",
        "\n",
        "for step in range(max_steps):\n",
        "    if np.random.rand() < 0.05:\n",
        "        act = np.random.choice(range(n_acts))\n",
        "    else:\n",
        "        obs_tensor = torch.tensor([obs]).float().cuda()\n",
        "        q_values = model(obs_tensor)[0]\n",
        "        q_values = q_values.cpu().detach().numpy()\n",
        "        act = np.argmax(q_values)\n",
        "\n",
        "    for _ in range(frame_skip):\n",
        "        next_obs, reward, done, _ = env.step(act)\n",
        "        if done or step >= max_steps:\n",
        "            break\n",
        "            \n",
        "        env.render()\n",
        "        time.sleep(0.05)\n",
        "        \n",
        "    if done:\n",
        "        break\n",
        "\n",
        "    obs, prev_frames = preprocess_obs(next_obs, prev_frames)"
      ],
      "execution_count": 0,
      "outputs": []
    },
    {
      "cell_type": "code",
      "metadata": {
        "id": "VSuOcV9irxsA",
        "colab_type": "code",
        "colab": {
          "base_uri": "https://localhost:8080/",
          "height": 283
        },
        "outputId": "dff35ccf-22ab-430e-c3d5-30ce5bb5ed9e"
      },
      "source": [
        "smoothed_rewards = []\n",
        "smooth_window = 50\n",
        "for i in range(smooth_window, len(all_rewards)-smooth_window):\n",
        "    smoothed_rewards.append(np.mean(all_rewards[i-smooth_window:i+smooth_window]))\n",
        "    \n",
        "plt.plot(range(len(smoothed_rewards)), smoothed_rewards)"
      ],
      "execution_count": 9,
      "outputs": [
        {
          "output_type": "execute_result",
          "data": {
            "text/plain": [
              "[<matplotlib.lines.Line2D at 0x7f99a3659710>]"
            ]
          },
          "metadata": {
            "tags": []
          },
          "execution_count": 9
        },
        {
          "output_type": "display_data",
          "data": {
            "image/png": "[encoded data removed]",
            "text/plain": [
              "<Figure size 432x288 with 1 Axes>"
            ]
          },
          "metadata": {
            "tags": [],
            "needs_background": "light"
          }
        }
      ]
    },
    {
      "cell_type": "code",
      "metadata": {
        "id": "Twnretu0rxsG",
        "colab_type": "code",
        "colab": {}
      },
      "source": [
        "torch.save(model, 'models/dqn_breakout_r9.pt')"
      ],
      "execution_count": 0,
      "outputs": []
    }
  ]
}