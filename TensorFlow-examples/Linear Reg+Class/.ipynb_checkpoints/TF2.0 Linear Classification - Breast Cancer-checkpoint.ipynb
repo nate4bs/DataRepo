{
 "cells": [
  {
   "cell_type": "code",
   "execution_count": 27,
   "metadata": {},
   "outputs": [],
   "source": [
    "import tensorflow as tf"
   ]
  },
  {
   "cell_type": "code",
   "execution_count": 28,
   "metadata": {},
   "outputs": [],
   "source": [
    "from sklearn.datasets import load_breast_cancer"
   ]
  },
  {
   "cell_type": "code",
   "execution_count": 29,
   "metadata": {},
   "outputs": [],
   "source": [
    "data = load_breast_cancer()"
   ]
  },
  {
   "cell_type": "code",
   "execution_count": 30,
   "metadata": {},
   "outputs": [
    {
     "data": {
      "text/plain": [
       "sklearn.utils.Bunch"
      ]
     },
     "execution_count": 30,
     "metadata": {},
     "output_type": "execute_result"
    }
   ],
   "source": [
    "type(data)"
   ]
  },
  {
   "cell_type": "code",
   "execution_count": 31,
   "metadata": {},
   "outputs": [
    {
     "data": {
      "text/plain": [
       "dict_keys(['data', 'target', 'frame', 'target_names', 'DESCR', 'feature_names', 'filename'])"
      ]
     },
     "execution_count": 31,
     "metadata": {},
     "output_type": "execute_result"
    }
   ],
   "source": [
    "data.keys()"
   ]
  },
  {
   "cell_type": "code",
   "execution_count": 32,
   "metadata": {},
   "outputs": [
    {
     "data": {
      "text/plain": [
       "(569, 30)"
      ]
     },
     "execution_count": 32,
     "metadata": {},
     "output_type": "execute_result"
    }
   ],
   "source": [
    "data.data.shape"
   ]
  },
  {
   "cell_type": "code",
   "execution_count": 33,
   "metadata": {},
   "outputs": [
    {
     "data": {
      "text/plain": [
       "array([0, 0, 0, 0, 0, 0, 0, 0, 0, 0, 0, 0, 0, 0, 0, 0, 0, 0, 0, 1, 1, 1,\n",
       "       0, 0, 0, 0, 0, 0, 0, 0, 0, 0, 0, 0, 0, 0, 0, 1, 0, 0, 0, 0, 0, 0,\n",
       "       0, 0, 1, 0, 1, 1, 1, 1, 1, 0, 0, 1, 0, 0, 1, 1, 1, 1, 0, 1, 0, 0,\n",
       "       1, 1, 1, 1, 0, 1, 0, 0, 1, 0, 1, 0, 0, 1, 1, 1, 0, 0, 1, 0, 0, 0,\n",
       "       1, 1, 1, 0, 1, 1, 0, 0, 1, 1, 1, 0, 0, 1, 1, 1, 1, 0, 1, 1, 0, 1,\n",
       "       1, 1, 1, 1, 1, 1, 1, 0, 0, 0, 1, 0, 0, 1, 1, 1, 0, 0, 1, 0, 1, 0,\n",
       "       0, 1, 0, 0, 1, 1, 0, 1, 1, 0, 1, 1, 1, 1, 0, 1, 1, 1, 1, 1, 1, 1,\n",
       "       1, 1, 0, 1, 1, 1, 1, 0, 0, 1, 0, 1, 1, 0, 0, 1, 1, 0, 0, 1, 1, 1,\n",
       "       1, 0, 1, 1, 0, 0, 0, 1, 0, 1, 0, 1, 1, 1, 0, 1, 1, 0, 0, 1, 0, 0,\n",
       "       0, 0, 1, 0, 0, 0, 1, 0, 1, 0, 1, 1, 0, 1, 0, 0, 0, 0, 1, 1, 0, 0,\n",
       "       1, 1, 1, 0, 1, 1, 1, 1, 1, 0, 0, 1, 1, 0, 1, 1, 0, 0, 1, 0, 1, 1,\n",
       "       1, 1, 0, 1, 1, 1, 1, 1, 0, 1, 0, 0, 0, 0, 0, 0, 0, 0, 0, 0, 0, 0,\n",
       "       0, 0, 1, 1, 1, 1, 1, 1, 0, 1, 0, 1, 1, 0, 1, 1, 0, 1, 0, 0, 1, 1,\n",
       "       1, 1, 1, 1, 1, 1, 1, 1, 1, 1, 1, 0, 1, 1, 0, 1, 0, 1, 1, 1, 1, 1,\n",
       "       1, 1, 1, 1, 1, 1, 1, 1, 1, 0, 1, 1, 1, 0, 1, 0, 1, 1, 1, 1, 0, 0,\n",
       "       0, 1, 1, 1, 1, 0, 1, 0, 1, 0, 1, 1, 1, 0, 1, 1, 1, 1, 1, 1, 1, 0,\n",
       "       0, 0, 1, 1, 1, 1, 1, 1, 1, 1, 1, 1, 1, 0, 0, 1, 0, 0, 0, 1, 0, 0,\n",
       "       1, 1, 1, 1, 1, 0, 1, 1, 1, 1, 1, 0, 1, 1, 1, 0, 1, 1, 0, 0, 1, 1,\n",
       "       1, 1, 1, 1, 0, 1, 1, 1, 1, 1, 1, 1, 0, 1, 1, 1, 1, 1, 0, 1, 1, 0,\n",
       "       1, 1, 1, 1, 1, 1, 1, 1, 1, 1, 1, 1, 0, 1, 0, 0, 1, 0, 1, 1, 1, 1,\n",
       "       1, 0, 1, 1, 0, 1, 0, 1, 1, 0, 1, 0, 1, 1, 1, 1, 1, 1, 1, 1, 0, 0,\n",
       "       1, 1, 1, 1, 1, 1, 0, 1, 1, 1, 1, 1, 1, 1, 1, 1, 1, 0, 1, 1, 1, 1,\n",
       "       1, 1, 1, 0, 1, 0, 1, 1, 0, 1, 1, 1, 1, 1, 0, 0, 1, 0, 1, 0, 1, 1,\n",
       "       1, 1, 1, 0, 1, 1, 0, 1, 0, 1, 0, 0, 1, 1, 1, 0, 1, 1, 1, 1, 1, 1,\n",
       "       1, 1, 1, 1, 1, 0, 1, 0, 0, 1, 1, 1, 1, 1, 1, 1, 1, 1, 1, 1, 1, 1,\n",
       "       1, 1, 1, 1, 1, 1, 1, 1, 1, 1, 1, 1, 0, 0, 0, 0, 0, 0, 1])"
      ]
     },
     "execution_count": 33,
     "metadata": {},
     "output_type": "execute_result"
    }
   ],
   "source": [
    "data.target"
   ]
  },
  {
   "cell_type": "code",
   "execution_count": 34,
   "metadata": {},
   "outputs": [
    {
     "data": {
      "text/plain": [
       "(569,)"
      ]
     },
     "execution_count": 34,
     "metadata": {},
     "output_type": "execute_result"
    }
   ],
   "source": [
    "data.target.shape"
   ]
  },
  {
   "cell_type": "code",
   "execution_count": 35,
   "metadata": {},
   "outputs": [
    {
     "data": {
      "text/plain": [
       "array(['mean radius', 'mean texture', 'mean perimeter', 'mean area',\n",
       "       'mean smoothness', 'mean compactness', 'mean concavity',\n",
       "       'mean concave points', 'mean symmetry', 'mean fractal dimension',\n",
       "       'radius error', 'texture error', 'perimeter error', 'area error',\n",
       "       'smoothness error', 'compactness error', 'concavity error',\n",
       "       'concave points error', 'symmetry error',\n",
       "       'fractal dimension error', 'worst radius', 'worst texture',\n",
       "       'worst perimeter', 'worst area', 'worst smoothness',\n",
       "       'worst compactness', 'worst concavity', 'worst concave points',\n",
       "       'worst symmetry', 'worst fractal dimension'], dtype='<U23')"
      ]
     },
     "execution_count": 35,
     "metadata": {},
     "output_type": "execute_result"
    }
   ],
   "source": [
    "data.feature_names"
   ]
  },
  {
   "cell_type": "code",
   "execution_count": 36,
   "metadata": {},
   "outputs": [
    {
     "data": {
      "text/plain": [
       "array(['malignant', 'benign'], dtype='<U9')"
      ]
     },
     "execution_count": 36,
     "metadata": {},
     "output_type": "execute_result"
    }
   ],
   "source": [
    "data.target_names"
   ]
  },
  {
   "cell_type": "code",
   "execution_count": 37,
   "metadata": {},
   "outputs": [],
   "source": [
    "from sklearn.model_selection import train_test_split"
   ]
  },
  {
   "cell_type": "code",
   "execution_count": 38,
   "metadata": {},
   "outputs": [],
   "source": [
    "x_train, x_test, y_train, y_test = train_test_split(data.data,data.target,test_size=0.33)"
   ]
  },
  {
   "cell_type": "code",
   "execution_count": 39,
   "metadata": {},
   "outputs": [],
   "source": [
    "N, D = x_train.shape"
   ]
  },
  {
   "cell_type": "code",
   "execution_count": 40,
   "metadata": {},
   "outputs": [],
   "source": [
    "from sklearn.preprocessing import StandardScaler"
   ]
  },
  {
   "cell_type": "code",
   "execution_count": 41,
   "metadata": {},
   "outputs": [],
   "source": [
    "scaler =StandardScaler()\n",
    "x_train =scaler.fit_transform(x_train)\n",
    "x_test = scaler.fit_transform(x_test)"
   ]
  },
  {
   "cell_type": "code",
   "execution_count": 42,
   "metadata": {},
   "outputs": [
    {
     "name": "stdout",
     "output_type": "stream",
     "text": [
      "Epoch 1/100\n",
      "12/12 [==============================] - 1s 48ms/step - loss: 0.3713 - accuracy: 0.8976 - val_loss: 0.3301 - val_accuracy: 0.9096\n",
      "Epoch 2/100\n",
      "12/12 [==============================] - 0s 10ms/step - loss: 0.3385 - accuracy: 0.9213 - val_loss: 0.3062 - val_accuracy: 0.9096\n",
      "Epoch 3/100\n",
      "12/12 [==============================] - 0s 12ms/step - loss: 0.3108 - accuracy: 0.9239 - val_loss: 0.2867 - val_accuracy: 0.8989\n",
      "Epoch 4/100\n",
      "12/12 [==============================] - 0s 11ms/step - loss: 0.2892 - accuracy: 0.9423 - val_loss: 0.2706 - val_accuracy: 0.9043\n",
      "Epoch 5/100\n",
      "12/12 [==============================] - 0s 10ms/step - loss: 0.2705 - accuracy: 0.9449 - val_loss: 0.2574 - val_accuracy: 0.9096\n",
      "Epoch 6/100\n",
      "12/12 [==============================] - 0s 11ms/step - loss: 0.2555 - accuracy: 0.9449 - val_loss: 0.2460 - val_accuracy: 0.9096\n",
      "Epoch 7/100\n",
      "12/12 [==============================] - 0s 11ms/step - loss: 0.2423 - accuracy: 0.9449 - val_loss: 0.2362 - val_accuracy: 0.9149\n",
      "Epoch 8/100\n",
      "12/12 [==============================] - 0s 11ms/step - loss: 0.2312 - accuracy: 0.9449 - val_loss: 0.2277 - val_accuracy: 0.9202\n",
      "Epoch 9/100\n",
      "12/12 [==============================] - 0s 10ms/step - loss: 0.2213 - accuracy: 0.9475 - val_loss: 0.2201 - val_accuracy: 0.9202\n",
      "Epoch 10/100\n",
      "12/12 [==============================] - 0s 12ms/step - loss: 0.2125 - accuracy: 0.9501 - val_loss: 0.2131 - val_accuracy: 0.9202\n",
      "Epoch 11/100\n",
      "12/12 [==============================] - 0s 35ms/step - loss: 0.2047 - accuracy: 0.9501 - val_loss: 0.2071 - val_accuracy: 0.9202\n",
      "Epoch 12/100\n",
      "12/12 [==============================] - 0s 15ms/step - loss: 0.1976 - accuracy: 0.9501 - val_loss: 0.2014 - val_accuracy: 0.9202\n",
      "Epoch 13/100\n",
      "12/12 [==============================] - 0s 22ms/step - loss: 0.1912 - accuracy: 0.9528 - val_loss: 0.1963 - val_accuracy: 0.9202\n",
      "Epoch 14/100\n",
      "12/12 [==============================] - 0s 20ms/step - loss: 0.1852 - accuracy: 0.9554 - val_loss: 0.1916 - val_accuracy: 0.9309\n",
      "Epoch 15/100\n",
      "12/12 [==============================] - 0s 25ms/step - loss: 0.1799 - accuracy: 0.9554 - val_loss: 0.1873 - val_accuracy: 0.9309\n",
      "Epoch 16/100\n",
      "12/12 [==============================] - 0s 18ms/step - loss: 0.1749 - accuracy: 0.9554 - val_loss: 0.1833 - val_accuracy: 0.9309\n",
      "Epoch 17/100\n",
      "12/12 [==============================] - 0s 14ms/step - loss: 0.1703 - accuracy: 0.9580 - val_loss: 0.1795 - val_accuracy: 0.9362\n",
      "Epoch 18/100\n",
      "12/12 [==============================] - 0s 12ms/step - loss: 0.1658 - accuracy: 0.9580 - val_loss: 0.1762 - val_accuracy: 0.9415\n",
      "Epoch 19/100\n",
      "12/12 [==============================] - 0s 12ms/step - loss: 0.1619 - accuracy: 0.9606 - val_loss: 0.1730 - val_accuracy: 0.9468\n",
      "Epoch 20/100\n",
      "12/12 [==============================] - 0s 18ms/step - loss: 0.1581 - accuracy: 0.9606 - val_loss: 0.1701 - val_accuracy: 0.9468\n",
      "Epoch 21/100\n",
      "12/12 [==============================] - 0s 16ms/step - loss: 0.1545 - accuracy: 0.9606 - val_loss: 0.1673 - val_accuracy: 0.9468\n",
      "Epoch 22/100\n",
      "12/12 [==============================] - 0s 33ms/step - loss: 0.1512 - accuracy: 0.9633 - val_loss: 0.1647 - val_accuracy: 0.9468\n",
      "Epoch 23/100\n",
      "12/12 [==============================] - 0s 25ms/step - loss: 0.1481 - accuracy: 0.9633 - val_loss: 0.1621 - val_accuracy: 0.9468\n",
      "Epoch 24/100\n",
      "12/12 [==============================] - 0s 17ms/step - loss: 0.1451 - accuracy: 0.9633 - val_loss: 0.1599 - val_accuracy: 0.9468\n",
      "Epoch 25/100\n",
      "12/12 [==============================] - 0s 13ms/step - loss: 0.1422 - accuracy: 0.9633 - val_loss: 0.1579 - val_accuracy: 0.9468\n",
      "Epoch 26/100\n",
      "12/12 [==============================] - 0s 11ms/step - loss: 0.1396 - accuracy: 0.9633 - val_loss: 0.1557 - val_accuracy: 0.9521\n",
      "Epoch 27/100\n",
      "12/12 [==============================] - 0s 13ms/step - loss: 0.1371 - accuracy: 0.9633 - val_loss: 0.1537 - val_accuracy: 0.9521\n",
      "Epoch 28/100\n",
      "12/12 [==============================] - 0s 12ms/step - loss: 0.1346 - accuracy: 0.9633 - val_loss: 0.1518 - val_accuracy: 0.9521\n",
      "Epoch 29/100\n",
      "12/12 [==============================] - 0s 11ms/step - loss: 0.1324 - accuracy: 0.9633 - val_loss: 0.1501 - val_accuracy: 0.9521\n",
      "Epoch 30/100\n",
      "12/12 [==============================] - 0s 12ms/step - loss: 0.1301 - accuracy: 0.9633 - val_loss: 0.1485 - val_accuracy: 0.9521\n",
      "Epoch 31/100\n",
      "12/12 [==============================] - 0s 12ms/step - loss: 0.1280 - accuracy: 0.9659 - val_loss: 0.1468 - val_accuracy: 0.9521\n",
      "Epoch 32/100\n",
      "12/12 [==============================] - 0s 10ms/step - loss: 0.1260 - accuracy: 0.9659 - val_loss: 0.1454 - val_accuracy: 0.9574\n",
      "Epoch 33/100\n",
      "12/12 [==============================] - 0s 16ms/step - loss: 0.1240 - accuracy: 0.9659 - val_loss: 0.1439 - val_accuracy: 0.9574\n",
      "Epoch 34/100\n",
      "12/12 [==============================] - 0s 16ms/step - loss: 0.1222 - accuracy: 0.9659 - val_loss: 0.1425 - val_accuracy: 0.9574\n",
      "Epoch 35/100\n",
      "12/12 [==============================] - 0s 14ms/step - loss: 0.1204 - accuracy: 0.9659 - val_loss: 0.1414 - val_accuracy: 0.9574\n",
      "Epoch 36/100\n",
      "12/12 [==============================] - 0s 16ms/step - loss: 0.1187 - accuracy: 0.9659 - val_loss: 0.1402 - val_accuracy: 0.9574\n",
      "Epoch 37/100\n",
      "12/12 [==============================] - 0s 11ms/step - loss: 0.1171 - accuracy: 0.9659 - val_loss: 0.1389 - val_accuracy: 0.9574\n",
      "Epoch 38/100\n",
      "12/12 [==============================] - 0s 12ms/step - loss: 0.1154 - accuracy: 0.9659 - val_loss: 0.1378 - val_accuracy: 0.9574\n",
      "Epoch 39/100\n",
      "12/12 [==============================] - 0s 11ms/step - loss: 0.1139 - accuracy: 0.9659 - val_loss: 0.1369 - val_accuracy: 0.9574\n",
      "Epoch 40/100\n",
      "12/12 [==============================] - 0s 11ms/step - loss: 0.1124 - accuracy: 0.9685 - val_loss: 0.1358 - val_accuracy: 0.9574\n",
      "Epoch 41/100\n",
      "12/12 [==============================] - 0s 13ms/step - loss: 0.1110 - accuracy: 0.9685 - val_loss: 0.1348 - val_accuracy: 0.9574\n",
      "Epoch 42/100\n",
      "12/12 [==============================] - 0s 11ms/step - loss: 0.1096 - accuracy: 0.9685 - val_loss: 0.1338 - val_accuracy: 0.9574\n",
      "Epoch 43/100\n",
      "12/12 [==============================] - 0s 11ms/step - loss: 0.1082 - accuracy: 0.9685 - val_loss: 0.1331 - val_accuracy: 0.9574\n",
      "Epoch 44/100\n",
      "12/12 [==============================] - 0s 11ms/step - loss: 0.1070 - accuracy: 0.9685 - val_loss: 0.1322 - val_accuracy: 0.9574\n",
      "Epoch 45/100\n",
      "12/12 [==============================] - 0s 11ms/step - loss: 0.1057 - accuracy: 0.9685 - val_loss: 0.1314 - val_accuracy: 0.9574\n",
      "Epoch 46/100\n",
      "12/12 [==============================] - 0s 11ms/step - loss: 0.1045 - accuracy: 0.9711 - val_loss: 0.1305 - val_accuracy: 0.9574\n",
      "Epoch 47/100\n",
      "12/12 [==============================] - 0s 11ms/step - loss: 0.1033 - accuracy: 0.9711 - val_loss: 0.1299 - val_accuracy: 0.9574\n",
      "Epoch 48/100\n",
      "12/12 [==============================] - 0s 14ms/step - loss: 0.1022 - accuracy: 0.9711 - val_loss: 0.1292 - val_accuracy: 0.9574\n",
      "Epoch 49/100\n",
      "12/12 [==============================] - 0s 10ms/step - loss: 0.1010 - accuracy: 0.9711 - val_loss: 0.1285 - val_accuracy: 0.9574\n",
      "Epoch 50/100\n",
      "12/12 [==============================] - 0s 11ms/step - loss: 0.0999 - accuracy: 0.9711 - val_loss: 0.1279 - val_accuracy: 0.9574\n",
      "Epoch 51/100\n",
      "12/12 [==============================] - 0s 11ms/step - loss: 0.0989 - accuracy: 0.9711 - val_loss: 0.1272 - val_accuracy: 0.9574\n",
      "Epoch 52/100\n",
      "12/12 [==============================] - 0s 11ms/step - loss: 0.0979 - accuracy: 0.9711 - val_loss: 0.1265 - val_accuracy: 0.9574\n",
      "Epoch 53/100\n",
      "12/12 [==============================] - 0s 11ms/step - loss: 0.0969 - accuracy: 0.9711 - val_loss: 0.1260 - val_accuracy: 0.9574\n",
      "Epoch 54/100\n",
      "12/12 [==============================] - 0s 11ms/step - loss: 0.0960 - accuracy: 0.9711 - val_loss: 0.1255 - val_accuracy: 0.9574\n",
      "Epoch 55/100\n",
      "12/12 [==============================] - 0s 11ms/step - loss: 0.0950 - accuracy: 0.9738 - val_loss: 0.1249 - val_accuracy: 0.9574\n",
      "Epoch 56/100\n",
      "12/12 [==============================] - 0s 13ms/step - loss: 0.0942 - accuracy: 0.9738 - val_loss: 0.1243 - val_accuracy: 0.9574\n",
      "Epoch 57/100\n",
      "12/12 [==============================] - 0s 11ms/step - loss: 0.0933 - accuracy: 0.9738 - val_loss: 0.1238 - val_accuracy: 0.9574\n",
      "Epoch 58/100\n"
     ]
    },
    {
     "name": "stdout",
     "output_type": "stream",
     "text": [
      "12/12 [==============================] - 0s 11ms/step - loss: 0.0924 - accuracy: 0.9738 - val_loss: 0.1235 - val_accuracy: 0.9574\n",
      "Epoch 59/100\n",
      "12/12 [==============================] - 0s 11ms/step - loss: 0.0915 - accuracy: 0.9738 - val_loss: 0.1230 - val_accuracy: 0.9574\n",
      "Epoch 60/100\n",
      "12/12 [==============================] - 0s 10ms/step - loss: 0.0907 - accuracy: 0.9738 - val_loss: 0.1225 - val_accuracy: 0.9574\n",
      "Epoch 61/100\n",
      "12/12 [==============================] - 0s 10ms/step - loss: 0.0899 - accuracy: 0.9738 - val_loss: 0.1221 - val_accuracy: 0.9574\n",
      "Epoch 62/100\n",
      "12/12 [==============================] - 0s 10ms/step - loss: 0.0891 - accuracy: 0.9738 - val_loss: 0.1218 - val_accuracy: 0.9574\n",
      "Epoch 63/100\n",
      "12/12 [==============================] - 0s 10ms/step - loss: 0.0883 - accuracy: 0.9738 - val_loss: 0.1214 - val_accuracy: 0.9574\n",
      "Epoch 64/100\n",
      "12/12 [==============================] - 0s 12ms/step - loss: 0.0876 - accuracy: 0.9738 - val_loss: 0.1209 - val_accuracy: 0.9574\n",
      "Epoch 65/100\n",
      "12/12 [==============================] - 0s 10ms/step - loss: 0.0868 - accuracy: 0.9738 - val_loss: 0.1207 - val_accuracy: 0.9574\n",
      "Epoch 66/100\n",
      "12/12 [==============================] - 0s 10ms/step - loss: 0.0862 - accuracy: 0.9738 - val_loss: 0.1202 - val_accuracy: 0.9574\n",
      "Epoch 67/100\n",
      "12/12 [==============================] - 0s 12ms/step - loss: 0.0855 - accuracy: 0.9764 - val_loss: 0.1199 - val_accuracy: 0.9574\n",
      "Epoch 68/100\n",
      "12/12 [==============================] - 0s 16ms/step - loss: 0.0848 - accuracy: 0.9764 - val_loss: 0.1196 - val_accuracy: 0.9574\n",
      "Epoch 69/100\n",
      "12/12 [==============================] - 0s 13ms/step - loss: 0.0842 - accuracy: 0.9764 - val_loss: 0.1194 - val_accuracy: 0.9574\n",
      "Epoch 70/100\n",
      "12/12 [==============================] - 0s 11ms/step - loss: 0.0835 - accuracy: 0.9764 - val_loss: 0.1190 - val_accuracy: 0.9574\n",
      "Epoch 71/100\n",
      "12/12 [==============================] - 0s 12ms/step - loss: 0.0828 - accuracy: 0.9764 - val_loss: 0.1187 - val_accuracy: 0.9574\n",
      "Epoch 72/100\n",
      "12/12 [==============================] - 0s 10ms/step - loss: 0.0822 - accuracy: 0.9764 - val_loss: 0.1184 - val_accuracy: 0.9574\n",
      "Epoch 73/100\n",
      "12/12 [==============================] - 0s 16ms/step - loss: 0.0816 - accuracy: 0.9764 - val_loss: 0.1182 - val_accuracy: 0.9574\n",
      "Epoch 74/100\n",
      "12/12 [==============================] - 0s 10ms/step - loss: 0.0810 - accuracy: 0.9764 - val_loss: 0.1179 - val_accuracy: 0.9574\n",
      "Epoch 75/100\n",
      "12/12 [==============================] - 0s 10ms/step - loss: 0.0804 - accuracy: 0.9764 - val_loss: 0.1177 - val_accuracy: 0.9574\n",
      "Epoch 76/100\n",
      "12/12 [==============================] - 0s 11ms/step - loss: 0.0799 - accuracy: 0.9764 - val_loss: 0.1174 - val_accuracy: 0.9574\n",
      "Epoch 77/100\n",
      "12/12 [==============================] - 0s 10ms/step - loss: 0.0793 - accuracy: 0.9764 - val_loss: 0.1172 - val_accuracy: 0.9574\n",
      "Epoch 78/100\n",
      "12/12 [==============================] - 0s 18ms/step - loss: 0.0787 - accuracy: 0.9764 - val_loss: 0.1169 - val_accuracy: 0.9574\n",
      "Epoch 79/100\n",
      "12/12 [==============================] - 0s 10ms/step - loss: 0.0782 - accuracy: 0.9764 - val_loss: 0.1168 - val_accuracy: 0.9574\n",
      "Epoch 80/100\n",
      "12/12 [==============================] - 0s 10ms/step - loss: 0.0777 - accuracy: 0.9790 - val_loss: 0.1166 - val_accuracy: 0.9574\n",
      "Epoch 81/100\n",
      "12/12 [==============================] - 0s 11ms/step - loss: 0.0772 - accuracy: 0.9790 - val_loss: 0.1163 - val_accuracy: 0.9574\n",
      "Epoch 82/100\n",
      "12/12 [==============================] - 0s 10ms/step - loss: 0.0766 - accuracy: 0.9790 - val_loss: 0.1162 - val_accuracy: 0.9574\n",
      "Epoch 83/100\n",
      "12/12 [==============================] - 0s 10ms/step - loss: 0.0761 - accuracy: 0.9790 - val_loss: 0.1160 - val_accuracy: 0.9574\n",
      "Epoch 84/100\n",
      "12/12 [==============================] - 0s 11ms/step - loss: 0.0757 - accuracy: 0.9816 - val_loss: 0.1158 - val_accuracy: 0.9574\n",
      "Epoch 85/100\n",
      "12/12 [==============================] - 0s 11ms/step - loss: 0.0752 - accuracy: 0.9816 - val_loss: 0.1156 - val_accuracy: 0.9574\n",
      "Epoch 86/100\n",
      "12/12 [==============================] - 0s 11ms/step - loss: 0.0747 - accuracy: 0.9816 - val_loss: 0.1153 - val_accuracy: 0.9574\n",
      "Epoch 87/100\n",
      "12/12 [==============================] - 0s 10ms/step - loss: 0.0743 - accuracy: 0.9816 - val_loss: 0.1152 - val_accuracy: 0.9521\n",
      "Epoch 88/100\n",
      "12/12 [==============================] - 0s 11ms/step - loss: 0.0738 - accuracy: 0.9816 - val_loss: 0.1152 - val_accuracy: 0.9521\n",
      "Epoch 89/100\n",
      "12/12 [==============================] - 0s 9ms/step - loss: 0.0733 - accuracy: 0.9816 - val_loss: 0.1150 - val_accuracy: 0.9521\n",
      "Epoch 90/100\n",
      "12/12 [==============================] - 0s 11ms/step - loss: 0.0729 - accuracy: 0.9816 - val_loss: 0.1148 - val_accuracy: 0.9521\n",
      "Epoch 91/100\n",
      "12/12 [==============================] - 0s 14ms/step - loss: 0.0725 - accuracy: 0.9843 - val_loss: 0.1147 - val_accuracy: 0.9521\n",
      "Epoch 92/100\n",
      "12/12 [==============================] - 0s 11ms/step - loss: 0.0721 - accuracy: 0.9843 - val_loss: 0.1145 - val_accuracy: 0.9521\n",
      "Epoch 93/100\n",
      "12/12 [==============================] - 0s 11ms/step - loss: 0.0716 - accuracy: 0.9843 - val_loss: 0.1144 - val_accuracy: 0.9521\n",
      "Epoch 94/100\n",
      "12/12 [==============================] - 0s 10ms/step - loss: 0.0712 - accuracy: 0.9843 - val_loss: 0.1143 - val_accuracy: 0.9521\n",
      "Epoch 95/100\n",
      "12/12 [==============================] - 0s 13ms/step - loss: 0.0708 - accuracy: 0.9843 - val_loss: 0.1141 - val_accuracy: 0.9521\n",
      "Epoch 96/100\n",
      "12/12 [==============================] - 0s 15ms/step - loss: 0.0704 - accuracy: 0.9843 - val_loss: 0.1140 - val_accuracy: 0.9521\n",
      "Epoch 97/100\n",
      "12/12 [==============================] - 0s 9ms/step - loss: 0.0701 - accuracy: 0.9843 - val_loss: 0.1139 - val_accuracy: 0.9521\n",
      "Epoch 98/100\n",
      "12/12 [==============================] - 0s 12ms/step - loss: 0.0697 - accuracy: 0.9843 - val_loss: 0.1137 - val_accuracy: 0.9521\n",
      "Epoch 99/100\n",
      "12/12 [==============================] - 0s 12ms/step - loss: 0.0693 - accuracy: 0.9843 - val_loss: 0.1137 - val_accuracy: 0.9521\n",
      "Epoch 100/100\n",
      "12/12 [==============================] - 0s 9ms/step - loss: 0.0689 - accuracy: 0.9843 - val_loss: 0.1136 - val_accuracy: 0.9521\n",
      "12/12 [==============================] - 0s 2ms/step - loss: 0.0687 - accuracy: 0.9843\n",
      "Train score: [0.06869305670261383, 0.9842519760131836]\n",
      "6/6 [==============================] - 0s 2ms/step - loss: 0.1136 - accuracy: 0.9521\n",
      "Test score: [0.11355774104595184, 0.9521276354789734]\n"
     ]
    }
   ],
   "source": [
    "model = tf.keras.models.Sequential([\n",
    "    tf.keras.layers.Input(shape=(D,)),\n",
    "    tf.keras.layers.Dense(1, activation ='sigmoid')\n",
    "])\n",
    "\n",
    "model.compile(optimizer='adam',loss ='binary_crossentropy',metrics='accuracy')\n",
    "\n",
    "r =model.fit(x_train, y_train, validation_data=(x_test,y_test),epochs=100)\n",
    "\n",
    "print('Train score:',model.evaluate(x_train,y_train))\n",
    "print('Test score:',model.evaluate(x_test,y_test))"
   ]
  },
  {
   "cell_type": "code",
   "execution_count": 43,
   "metadata": {},
   "outputs": [],
   "source": [
    "import matplotlib.pyplot as plt\n",
    "import seaborn as sns\n",
    "sns.set()"
   ]
  },
  {
   "cell_type": "code",
   "execution_count": 44,
   "metadata": {},
   "outputs": [
    {
     "data": {
      "text/plain": [
       "<matplotlib.legend.Legend at 0x26edbc76ec8>"
      ]
     },
     "execution_count": 44,
     "metadata": {},
     "output_type": "execute_result"
    },
    {
     "data": {
      "image/png": "[encoded data removed]",
      "text/plain": [
       "<Figure size 432x288 with 1 Axes>"
      ]
     },
     "metadata": {},
     "output_type": "display_data"
    }
   ],
   "source": [
    "plt.plot(r.history['loss'],label='loss')\n",
    "plt.plot(r.history['val_loss'], label='val_loss')\n",
    "plt.legend()"
   ]
  },
  {
   "cell_type": "code",
   "execution_count": 45,
   "metadata": {},
   "outputs": [
    {
     "data": {
      "text/plain": [
       "<matplotlib.legend.Legend at 0x26edc537a48>"
      ]
     },
     "execution_count": 45,
     "metadata": {},
     "output_type": "execute_result"
    },
    {
     "data": {
      "image/png": "[encoded data removed]",
      "text/plain": [
       "<Figure size 432x288 with 1 Axes>"
      ]
     },
     "metadata": {},
     "output_type": "display_data"
    }
   ],
   "source": [
    "plt.plot(r.history['accuracy'],label='acc')\n",
    "plt.plot(r.history['val_accuracy'],label='val_acc')\n",
    "plt.legend()"
   ]
  },
  {
   "cell_type": "code",
   "execution_count": 46,
   "metadata": {},
   "outputs": [],
   "source": [
    "P = model.predict(x_test)"
   ]
  },
  {
   "cell_type": "code",
   "execution_count": 47,
   "metadata": {},
   "outputs": [],
   "source": [
    "import numpy as np\n",
    "P = np.round(P).flatten()"
   ]
  },
  {
   "cell_type": "code",
   "execution_count": 48,
   "metadata": {},
   "outputs": [
    {
     "name": "stdout",
     "output_type": "stream",
     "text": [
      "Manually Calc Ac: 0.9521276595744681\n",
      "6/6 [==============================] - 0s 2ms/step - loss: 0.1136 - accuracy: 0.9521\n",
      "Eval Out: [0.11355774104595184, 0.9521276354789734]\n"
     ]
    }
   ],
   "source": [
    "print('Manually Calc Ac:', np.mean(P ==y_test))\n",
    "print('Eval Out:', model.evaluate(x_test,y_test))"
   ]
  },
  {
   "cell_type": "code",
   "execution_count": 49,
   "metadata": {},
   "outputs": [],
   "source": [
    "model.save('linearclassifier.h5')"
   ]
  },
  {
   "cell_type": "code",
   "execution_count": 51,
   "metadata": {},
   "outputs": [
    {
     "name": "stderr",
     "output_type": "stream",
     "text": [
      "'ls' is not recognized as an internal or external command,\n",
      "operable program or batch file.\n"
     ]
    }
   ],
   "source": [
    "!ls -lh"
   ]
  },
  {
   "cell_type": "code",
   "execution_count": 57,
   "metadata": {},
   "outputs": [
    {
     "name": "stdout",
     "output_type": "stream",
     "text": [
      "[<tensorflow.python.keras.layers.core.Dense object at 0x0000026EDC257E88>]\n",
      "6/6 [==============================] - 0s 2ms/step - loss: 0.1136 - accuracy: 0.9521\n"
     ]
    },
    {
     "data": {
      "text/plain": [
       "[0.11355774104595184, 0.9521276354789734]"
      ]
     },
     "execution_count": 57,
     "metadata": {},
     "output_type": "execute_result"
    }
   ],
   "source": [
    "model = tf.keras.models.load_model('linearclassifier.h5')\n",
    "print(model.layers)\n",
    "model.evaluate(x_test,y_test)"
   ]
  },
  {
   "cell_type": "code",
   "execution_count": null,
   "metadata": {},
   "outputs": [],
   "source": []
  }
 ],
 "metadata": {
  "kernelspec": {
   "display_name": "Python [conda env:py3-TF2.0]",
   "language": "python",
   "name": "conda-env-py3-TF2.0-py"
  },
  "language_info": {
   "codemirror_mode": {
    "name": "ipython",
    "version": 3
   },
   "file_extension": ".py",
   "mimetype": "text/x-python",
   "name": "python",
   "nbconvert_exporter": "python",
   "pygments_lexer": "ipython3",
   "version": "3.7.7"
  }
 },
 "nbformat": 4,
 "nbformat_minor": 4
}
