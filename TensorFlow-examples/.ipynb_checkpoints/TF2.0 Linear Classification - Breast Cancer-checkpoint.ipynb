{
 "cells": [
  {
   "cell_type": "code",
   "execution_count": 4,
   "metadata": {},
   "outputs": [],
   "source": [
    "import tensorflow as tf"
   ]
  },
  {
   "cell_type": "code",
   "execution_count": 6,
   "metadata": {},
   "outputs": [],
   "source": [
    "from sklearn.datasets import load_breast_cancer"
   ]
  },
  {
   "cell_type": "code",
   "execution_count": 7,
   "metadata": {},
   "outputs": [],
   "source": [
    "data = load_breast_cancer()"
   ]
  },
  {
   "cell_type": "code",
   "execution_count": 9,
   "metadata": {},
   "outputs": [
    {
     "data": {
      "text/plain": [
       "sklearn.utils.Bunch"
      ]
     },
     "execution_count": 9,
     "metadata": {},
     "output_type": "execute_result"
    }
   ],
   "source": [
    "type(data)"
   ]
  },
  {
   "cell_type": "code",
   "execution_count": 10,
   "metadata": {},
   "outputs": [
    {
     "data": {
      "text/plain": [
       "dict_keys(['data', 'target', 'frame', 'target_names', 'DESCR', 'feature_names', 'filename'])"
      ]
     },
     "execution_count": 10,
     "metadata": {},
     "output_type": "execute_result"
    }
   ],
   "source": [
    "data.keys()"
   ]
  },
  {
   "cell_type": "code",
   "execution_count": 13,
   "metadata": {},
   "outputs": [
    {
     "data": {
      "text/plain": [
       "(569, 30)"
      ]
     },
     "execution_count": 13,
     "metadata": {},
     "output_type": "execute_result"
    }
   ],
   "source": [
    "data.data.shape"
   ]
  },
  {
   "cell_type": "code",
   "execution_count": 15,
   "metadata": {},
   "outputs": [
    {
     "data": {
      "text/plain": [
       "array([0, 0, 0, 0, 0, 0, 0, 0, 0, 0, 0, 0, 0, 0, 0, 0, 0, 0, 0, 1, 1, 1,\n",
       "       0, 0, 0, 0, 0, 0, 0, 0, 0, 0, 0, 0, 0, 0, 0, 1, 0, 0, 0, 0, 0, 0,\n",
       "       0, 0, 1, 0, 1, 1, 1, 1, 1, 0, 0, 1, 0, 0, 1, 1, 1, 1, 0, 1, 0, 0,\n",
       "       1, 1, 1, 1, 0, 1, 0, 0, 1, 0, 1, 0, 0, 1, 1, 1, 0, 0, 1, 0, 0, 0,\n",
       "       1, 1, 1, 0, 1, 1, 0, 0, 1, 1, 1, 0, 0, 1, 1, 1, 1, 0, 1, 1, 0, 1,\n",
       "       1, 1, 1, 1, 1, 1, 1, 0, 0, 0, 1, 0, 0, 1, 1, 1, 0, 0, 1, 0, 1, 0,\n",
       "       0, 1, 0, 0, 1, 1, 0, 1, 1, 0, 1, 1, 1, 1, 0, 1, 1, 1, 1, 1, 1, 1,\n",
       "       1, 1, 0, 1, 1, 1, 1, 0, 0, 1, 0, 1, 1, 0, 0, 1, 1, 0, 0, 1, 1, 1,\n",
       "       1, 0, 1, 1, 0, 0, 0, 1, 0, 1, 0, 1, 1, 1, 0, 1, 1, 0, 0, 1, 0, 0,\n",
       "       0, 0, 1, 0, 0, 0, 1, 0, 1, 0, 1, 1, 0, 1, 0, 0, 0, 0, 1, 1, 0, 0,\n",
       "       1, 1, 1, 0, 1, 1, 1, 1, 1, 0, 0, 1, 1, 0, 1, 1, 0, 0, 1, 0, 1, 1,\n",
       "       1, 1, 0, 1, 1, 1, 1, 1, 0, 1, 0, 0, 0, 0, 0, 0, 0, 0, 0, 0, 0, 0,\n",
       "       0, 0, 1, 1, 1, 1, 1, 1, 0, 1, 0, 1, 1, 0, 1, 1, 0, 1, 0, 0, 1, 1,\n",
       "       1, 1, 1, 1, 1, 1, 1, 1, 1, 1, 1, 0, 1, 1, 0, 1, 0, 1, 1, 1, 1, 1,\n",
       "       1, 1, 1, 1, 1, 1, 1, 1, 1, 0, 1, 1, 1, 0, 1, 0, 1, 1, 1, 1, 0, 0,\n",
       "       0, 1, 1, 1, 1, 0, 1, 0, 1, 0, 1, 1, 1, 0, 1, 1, 1, 1, 1, 1, 1, 0,\n",
       "       0, 0, 1, 1, 1, 1, 1, 1, 1, 1, 1, 1, 1, 0, 0, 1, 0, 0, 0, 1, 0, 0,\n",
       "       1, 1, 1, 1, 1, 0, 1, 1, 1, 1, 1, 0, 1, 1, 1, 0, 1, 1, 0, 0, 1, 1,\n",
       "       1, 1, 1, 1, 0, 1, 1, 1, 1, 1, 1, 1, 0, 1, 1, 1, 1, 1, 0, 1, 1, 0,\n",
       "       1, 1, 1, 1, 1, 1, 1, 1, 1, 1, 1, 1, 0, 1, 0, 0, 1, 0, 1, 1, 1, 1,\n",
       "       1, 0, 1, 1, 0, 1, 0, 1, 1, 0, 1, 0, 1, 1, 1, 1, 1, 1, 1, 1, 0, 0,\n",
       "       1, 1, 1, 1, 1, 1, 0, 1, 1, 1, 1, 1, 1, 1, 1, 1, 1, 0, 1, 1, 1, 1,\n",
       "       1, 1, 1, 0, 1, 0, 1, 1, 0, 1, 1, 1, 1, 1, 0, 0, 1, 0, 1, 0, 1, 1,\n",
       "       1, 1, 1, 0, 1, 1, 0, 1, 0, 1, 0, 0, 1, 1, 1, 0, 1, 1, 1, 1, 1, 1,\n",
       "       1, 1, 1, 1, 1, 0, 1, 0, 0, 1, 1, 1, 1, 1, 1, 1, 1, 1, 1, 1, 1, 1,\n",
       "       1, 1, 1, 1, 1, 1, 1, 1, 1, 1, 1, 1, 0, 0, 0, 0, 0, 0, 1])"
      ]
     },
     "execution_count": 15,
     "metadata": {},
     "output_type": "execute_result"
    }
   ],
   "source": [
    "data.target"
   ]
  },
  {
   "cell_type": "code",
   "execution_count": 16,
   "metadata": {},
   "outputs": [
    {
     "data": {
      "text/plain": [
       "(569,)"
      ]
     },
     "execution_count": 16,
     "metadata": {},
     "output_type": "execute_result"
    }
   ],
   "source": [
    "data.target.shape"
   ]
  },
  {
   "cell_type": "code",
   "execution_count": 17,
   "metadata": {},
   "outputs": [
    {
     "data": {
      "text/plain": [
       "array(['mean radius', 'mean texture', 'mean perimeter', 'mean area',\n",
       "       'mean smoothness', 'mean compactness', 'mean concavity',\n",
       "       'mean concave points', 'mean symmetry', 'mean fractal dimension',\n",
       "       'radius error', 'texture error', 'perimeter error', 'area error',\n",
       "       'smoothness error', 'compactness error', 'concavity error',\n",
       "       'concave points error', 'symmetry error',\n",
       "       'fractal dimension error', 'worst radius', 'worst texture',\n",
       "       'worst perimeter', 'worst area', 'worst smoothness',\n",
       "       'worst compactness', 'worst concavity', 'worst concave points',\n",
       "       'worst symmetry', 'worst fractal dimension'], dtype='<U23')"
      ]
     },
     "execution_count": 17,
     "metadata": {},
     "output_type": "execute_result"
    }
   ],
   "source": [
    "data.feature_names"
   ]
  },
  {
   "cell_type": "code",
   "execution_count": 18,
   "metadata": {},
   "outputs": [
    {
     "data": {
      "text/plain": [
       "array(['malignant', 'benign'], dtype='<U9')"
      ]
     },
     "execution_count": 18,
     "metadata": {},
     "output_type": "execute_result"
    }
   ],
   "source": [
    "data.target_names"
   ]
  },
  {
   "cell_type": "code",
   "execution_count": 19,
   "metadata": {},
   "outputs": [],
   "source": [
    "from sklearn.model_selection import train_test_split"
   ]
  },
  {
   "cell_type": "code",
   "execution_count": 21,
   "metadata": {},
   "outputs": [],
   "source": [
    "x_train, x_test, y_train, y_test = train_test_split(data.data,data.target,test_size=0.33)"
   ]
  },
  {
   "cell_type": "code",
   "execution_count": 22,
   "metadata": {},
   "outputs": [],
   "source": [
    "N, D = x_train.shape"
   ]
  },
  {
   "cell_type": "code",
   "execution_count": 23,
   "metadata": {},
   "outputs": [],
   "source": [
    "from sklearn.preprocessing import StandardScaler"
   ]
  },
  {
   "cell_type": "code",
   "execution_count": 25,
   "metadata": {},
   "outputs": [],
   "source": [
    "scaler =StandardScaler()\n",
    "x_train =scaler.fit_transform(x_train)\n",
    "x_test = scaler.fit_transform(x_test)"
   ]
  },
  {
   "cell_type": "code",
   "execution_count": 26,
   "metadata": {},
   "outputs": [
    {
     "name": "stdout",
     "output_type": "stream",
     "text": [
      "Epoch 1/100\n",
      "12/12 [==============================] - 1s 57ms/step - loss: 0.6531 - accuracy: 0.6483 - val_loss: 0.5511 - val_accuracy: 0.7021\n",
      "Epoch 2/100\n",
      "12/12 [==============================] - 0s 17ms/step - loss: 0.5828 - accuracy: 0.6955 - val_loss: 0.4891 - val_accuracy: 0.7766\n",
      "Epoch 3/100\n",
      "12/12 [==============================] - 0s 18ms/step - loss: 0.5226 - accuracy: 0.7375 - val_loss: 0.4356 - val_accuracy: 0.7979\n",
      "Epoch 4/100\n",
      "12/12 [==============================] - 0s 18ms/step - loss: 0.4694 - accuracy: 0.7900 - val_loss: 0.3920 - val_accuracy: 0.8457\n",
      "Epoch 5/100\n",
      "12/12 [==============================] - 0s 14ms/step - loss: 0.4264 - accuracy: 0.8163 - val_loss: 0.3548 - val_accuracy: 0.8830\n",
      "Epoch 6/100\n",
      "12/12 [==============================] - 0s 11ms/step - loss: 0.3905 - accuracy: 0.8346 - val_loss: 0.3238 - val_accuracy: 0.9096\n",
      "Epoch 7/100\n",
      "12/12 [==============================] - 0s 23ms/step - loss: 0.3595 - accuracy: 0.8583 - val_loss: 0.2984 - val_accuracy: 0.9202\n",
      "Epoch 8/100\n",
      "12/12 [==============================] - 0s 21ms/step - loss: 0.3347 - accuracy: 0.8661 - val_loss: 0.2765 - val_accuracy: 0.9415\n",
      "Epoch 9/100\n",
      "12/12 [==============================] - 1s 66ms/step - loss: 0.3123 - accuracy: 0.8766 - val_loss: 0.2588 - val_accuracy: 0.9521\n",
      "Epoch 10/100\n",
      "12/12 [==============================] - 0s 17ms/step - loss: 0.2936 - accuracy: 0.8898 - val_loss: 0.2439 - val_accuracy: 0.9468\n",
      "Epoch 11/100\n",
      "12/12 [==============================] - 0s 16ms/step - loss: 0.2780 - accuracy: 0.9003 - val_loss: 0.2308 - val_accuracy: 0.9574\n",
      "Epoch 12/100\n",
      "12/12 [==============================] - 0s 17ms/step - loss: 0.2639 - accuracy: 0.9055 - val_loss: 0.2198 - val_accuracy: 0.9628\n",
      "Epoch 13/100\n",
      "12/12 [==============================] - 0s 16ms/step - loss: 0.2520 - accuracy: 0.9081 - val_loss: 0.2102 - val_accuracy: 0.9734\n",
      "Epoch 14/100\n",
      "12/12 [==============================] - 0s 16ms/step - loss: 0.2414 - accuracy: 0.9160 - val_loss: 0.2019 - val_accuracy: 0.9734\n",
      "Epoch 15/100\n",
      "12/12 [==============================] - 0s 22ms/step - loss: 0.2321 - accuracy: 0.9239 - val_loss: 0.1948 - val_accuracy: 0.9734\n",
      "Epoch 16/100\n",
      "12/12 [==============================] - 0s 17ms/step - loss: 0.2238 - accuracy: 0.9370 - val_loss: 0.1885 - val_accuracy: 0.9734\n",
      "Epoch 17/100\n",
      "12/12 [==============================] - 0s 20ms/step - loss: 0.2165 - accuracy: 0.9370 - val_loss: 0.1830 - val_accuracy: 0.9734\n",
      "Epoch 18/100\n",
      "12/12 [==============================] - 0s 21ms/step - loss: 0.2100 - accuracy: 0.9396 - val_loss: 0.1780 - val_accuracy: 0.9734\n",
      "Epoch 19/100\n",
      "12/12 [==============================] - 0s 18ms/step - loss: 0.2039 - accuracy: 0.9396 - val_loss: 0.1736 - val_accuracy: 0.9734\n",
      "Epoch 20/100\n",
      "12/12 [==============================] - 0s 17ms/step - loss: 0.1985 - accuracy: 0.9396 - val_loss: 0.1697 - val_accuracy: 0.9734\n",
      "Epoch 21/100\n",
      "12/12 [==============================] - 0s 16ms/step - loss: 0.1935 - accuracy: 0.9423 - val_loss: 0.1661 - val_accuracy: 0.9734\n",
      "Epoch 22/100\n",
      "12/12 [==============================] - 0s 17ms/step - loss: 0.1892 - accuracy: 0.9475 - val_loss: 0.1628 - val_accuracy: 0.9681\n",
      "Epoch 23/100\n",
      "12/12 [==============================] - 0s 16ms/step - loss: 0.1848 - accuracy: 0.9475 - val_loss: 0.1598 - val_accuracy: 0.9681\n",
      "Epoch 24/100\n",
      "12/12 [==============================] - 0s 16ms/step - loss: 0.1810 - accuracy: 0.9475 - val_loss: 0.1570 - val_accuracy: 0.9681\n",
      "Epoch 25/100\n",
      "12/12 [==============================] - 0s 16ms/step - loss: 0.1773 - accuracy: 0.9501 - val_loss: 0.1546 - val_accuracy: 0.9681\n",
      "Epoch 26/100\n",
      "12/12 [==============================] - 0s 17ms/step - loss: 0.1740 - accuracy: 0.9501 - val_loss: 0.1521 - val_accuracy: 0.9681\n",
      "Epoch 27/100\n",
      "12/12 [==============================] - 0s 16ms/step - loss: 0.1708 - accuracy: 0.9528 - val_loss: 0.1500 - val_accuracy: 0.9681\n",
      "Epoch 28/100\n",
      "12/12 [==============================] - 0s 18ms/step - loss: 0.1679 - accuracy: 0.9580 - val_loss: 0.1479 - val_accuracy: 0.9681\n",
      "Epoch 29/100\n",
      "12/12 [==============================] - 0s 15ms/step - loss: 0.1650 - accuracy: 0.9606 - val_loss: 0.1460 - val_accuracy: 0.9681\n",
      "Epoch 30/100\n",
      "12/12 [==============================] - 0s 15ms/step - loss: 0.1625 - accuracy: 0.9606 - val_loss: 0.1441 - val_accuracy: 0.9681\n",
      "Epoch 31/100\n",
      "12/12 [==============================] - 0s 18ms/step - loss: 0.1599 - accuracy: 0.9633 - val_loss: 0.1424 - val_accuracy: 0.9681\n",
      "Epoch 32/100\n",
      "12/12 [==============================] - 0s 19ms/step - loss: 0.1576 - accuracy: 0.9633 - val_loss: 0.1407 - val_accuracy: 0.9681\n",
      "Epoch 33/100\n",
      "12/12 [==============================] - 0s 19ms/step - loss: 0.1553 - accuracy: 0.9659 - val_loss: 0.1392 - val_accuracy: 0.9681\n",
      "Epoch 34/100\n",
      "12/12 [==============================] - 0s 21ms/step - loss: 0.1532 - accuracy: 0.9659 - val_loss: 0.1377 - val_accuracy: 0.9681\n",
      "Epoch 35/100\n",
      "12/12 [==============================] - 0s 21ms/step - loss: 0.1510 - accuracy: 0.9659 - val_loss: 0.1363 - val_accuracy: 0.9681\n",
      "Epoch 36/100\n",
      "12/12 [==============================] - 0s 24ms/step - loss: 0.1491 - accuracy: 0.9659 - val_loss: 0.1350 - val_accuracy: 0.9681\n",
      "Epoch 37/100\n",
      "12/12 [==============================] - 0s 24ms/step - loss: 0.1473 - accuracy: 0.9659 - val_loss: 0.1337 - val_accuracy: 0.9681\n",
      "Epoch 38/100\n",
      "12/12 [==============================] - 0s 19ms/step - loss: 0.1454 - accuracy: 0.9633 - val_loss: 0.1324 - val_accuracy: 0.9681\n",
      "Epoch 39/100\n",
      "12/12 [==============================] - 0s 17ms/step - loss: 0.1438 - accuracy: 0.9633 - val_loss: 0.1312 - val_accuracy: 0.9681\n",
      "Epoch 40/100\n",
      "12/12 [==============================] - 0s 24ms/step - loss: 0.1420 - accuracy: 0.9659 - val_loss: 0.1301 - val_accuracy: 0.9681\n",
      "Epoch 41/100\n",
      "12/12 [==============================] - 0s 25ms/step - loss: 0.1404 - accuracy: 0.9659 - val_loss: 0.1291 - val_accuracy: 0.9681\n",
      "Epoch 42/100\n",
      "12/12 [==============================] - 0s 22ms/step - loss: 0.1390 - accuracy: 0.9685 - val_loss: 0.1281 - val_accuracy: 0.9681\n",
      "Epoch 43/100\n",
      "12/12 [==============================] - 0s 33ms/step - loss: 0.1375 - accuracy: 0.9685 - val_loss: 0.1271 - val_accuracy: 0.9681\n",
      "Epoch 44/100\n",
      "12/12 [==============================] - 0s 33ms/step - loss: 0.1360 - accuracy: 0.9685 - val_loss: 0.1261 - val_accuracy: 0.9628\n",
      "Epoch 45/100\n",
      "12/12 [==============================] - 0s 23ms/step - loss: 0.1347 - accuracy: 0.9685 - val_loss: 0.1252 - val_accuracy: 0.9628\n",
      "Epoch 46/100\n",
      "12/12 [==============================] - 0s 40ms/step - loss: 0.1333 - accuracy: 0.9711 - val_loss: 0.1244 - val_accuracy: 0.9681\n",
      "Epoch 47/100\n",
      "12/12 [==============================] - 0s 16ms/step - loss: 0.1321 - accuracy: 0.9711 - val_loss: 0.1235 - val_accuracy: 0.9681\n",
      "Epoch 48/100\n",
      "12/12 [==============================] - 0s 18ms/step - loss: 0.1309 - accuracy: 0.9711 - val_loss: 0.1227 - val_accuracy: 0.9681\n",
      "Epoch 49/100\n",
      "12/12 [==============================] - 0s 19ms/step - loss: 0.1296 - accuracy: 0.9711 - val_loss: 0.1219 - val_accuracy: 0.9681\n",
      "Epoch 50/100\n",
      "12/12 [==============================] - 0s 20ms/step - loss: 0.1285 - accuracy: 0.9711 - val_loss: 0.1211 - val_accuracy: 0.9681\n",
      "Epoch 51/100\n",
      "12/12 [==============================] - 0s 19ms/step - loss: 0.1274 - accuracy: 0.9711 - val_loss: 0.1203 - val_accuracy: 0.9681\n",
      "Epoch 52/100\n",
      "12/12 [==============================] - 0s 17ms/step - loss: 0.1263 - accuracy: 0.9711 - val_loss: 0.1195 - val_accuracy: 0.9681\n",
      "Epoch 53/100\n",
      "12/12 [==============================] - 0s 18ms/step - loss: 0.1252 - accuracy: 0.9711 - val_loss: 0.1188 - val_accuracy: 0.9681\n",
      "Epoch 54/100\n",
      "12/12 [==============================] - 0s 18ms/step - loss: 0.1242 - accuracy: 0.9711 - val_loss: 0.1182 - val_accuracy: 0.9681\n",
      "Epoch 55/100\n",
      "12/12 [==============================] - 0s 17ms/step - loss: 0.1232 - accuracy: 0.9711 - val_loss: 0.1176 - val_accuracy: 0.9681\n",
      "Epoch 56/100\n",
      "12/12 [==============================] - 0s 18ms/step - loss: 0.1223 - accuracy: 0.9711 - val_loss: 0.1170 - val_accuracy: 0.9681\n",
      "Epoch 57/100\n",
      "12/12 [==============================] - 0s 29ms/step - loss: 0.1213 - accuracy: 0.9711 - val_loss: 0.1163 - val_accuracy: 0.9681\n",
      "Epoch 58/100\n"
     ]
    },
    {
     "name": "stdout",
     "output_type": "stream",
     "text": [
      "12/12 [==============================] - 0s 21ms/step - loss: 0.1204 - accuracy: 0.9685 - val_loss: 0.1157 - val_accuracy: 0.9681\n",
      "Epoch 59/100\n",
      "12/12 [==============================] - 0s 16ms/step - loss: 0.1196 - accuracy: 0.9685 - val_loss: 0.1151 - val_accuracy: 0.9681\n",
      "Epoch 60/100\n",
      "12/12 [==============================] - 0s 17ms/step - loss: 0.1187 - accuracy: 0.9685 - val_loss: 0.1146 - val_accuracy: 0.9681\n",
      "Epoch 61/100\n",
      "12/12 [==============================] - 0s 17ms/step - loss: 0.1179 - accuracy: 0.9685 - val_loss: 0.1140 - val_accuracy: 0.9681\n",
      "Epoch 62/100\n",
      "12/12 [==============================] - 0s 14ms/step - loss: 0.1170 - accuracy: 0.9711 - val_loss: 0.1134 - val_accuracy: 0.9681\n",
      "Epoch 63/100\n",
      "12/12 [==============================] - 0s 19ms/step - loss: 0.1163 - accuracy: 0.9711 - val_loss: 0.1129 - val_accuracy: 0.9734\n",
      "Epoch 64/100\n",
      "12/12 [==============================] - 0s 14ms/step - loss: 0.1155 - accuracy: 0.9711 - val_loss: 0.1124 - val_accuracy: 0.9734\n",
      "Epoch 65/100\n",
      "12/12 [==============================] - 0s 15ms/step - loss: 0.1148 - accuracy: 0.9711 - val_loss: 0.1120 - val_accuracy: 0.9734\n",
      "Epoch 66/100\n",
      "12/12 [==============================] - 0s 18ms/step - loss: 0.1141 - accuracy: 0.9711 - val_loss: 0.1114 - val_accuracy: 0.9734\n",
      "Epoch 67/100\n",
      "12/12 [==============================] - 0s 16ms/step - loss: 0.1133 - accuracy: 0.9711 - val_loss: 0.1110 - val_accuracy: 0.9734\n",
      "Epoch 68/100\n",
      "12/12 [==============================] - 0s 18ms/step - loss: 0.1126 - accuracy: 0.9711 - val_loss: 0.1105 - val_accuracy: 0.9734\n",
      "Epoch 69/100\n",
      "12/12 [==============================] - 0s 17ms/step - loss: 0.1120 - accuracy: 0.9711 - val_loss: 0.1102 - val_accuracy: 0.9734\n",
      "Epoch 70/100\n",
      "12/12 [==============================] - 0s 16ms/step - loss: 0.1113 - accuracy: 0.9711 - val_loss: 0.1097 - val_accuracy: 0.9734\n",
      "Epoch 71/100\n",
      "12/12 [==============================] - 0s 17ms/step - loss: 0.1106 - accuracy: 0.9711 - val_loss: 0.1093 - val_accuracy: 0.9734\n",
      "Epoch 72/100\n",
      "12/12 [==============================] - 0s 18ms/step - loss: 0.1100 - accuracy: 0.9711 - val_loss: 0.1089 - val_accuracy: 0.9734\n",
      "Epoch 73/100\n",
      "12/12 [==============================] - 0s 18ms/step - loss: 0.1094 - accuracy: 0.9711 - val_loss: 0.1085 - val_accuracy: 0.9734\n",
      "Epoch 74/100\n",
      "12/12 [==============================] - 0s 17ms/step - loss: 0.1088 - accuracy: 0.9711 - val_loss: 0.1081 - val_accuracy: 0.9734\n",
      "Epoch 75/100\n",
      "12/12 [==============================] - 0s 15ms/step - loss: 0.1082 - accuracy: 0.9738 - val_loss: 0.1077 - val_accuracy: 0.9734\n",
      "Epoch 76/100\n",
      "12/12 [==============================] - 0s 18ms/step - loss: 0.1076 - accuracy: 0.9738 - val_loss: 0.1074 - val_accuracy: 0.9734\n",
      "Epoch 77/100\n",
      "12/12 [==============================] - 0s 18ms/step - loss: 0.1071 - accuracy: 0.9738 - val_loss: 0.1071 - val_accuracy: 0.9734\n",
      "Epoch 78/100\n",
      "12/12 [==============================] - 0s 17ms/step - loss: 0.1065 - accuracy: 0.9738 - val_loss: 0.1067 - val_accuracy: 0.9734\n",
      "Epoch 79/100\n",
      "12/12 [==============================] - 0s 15ms/step - loss: 0.1060 - accuracy: 0.9738 - val_loss: 0.1064 - val_accuracy: 0.9734\n",
      "Epoch 80/100\n",
      "12/12 [==============================] - 0s 19ms/step - loss: 0.1055 - accuracy: 0.9738 - val_loss: 0.1060 - val_accuracy: 0.9734\n",
      "Epoch 81/100\n",
      "12/12 [==============================] - 0s 17ms/step - loss: 0.1049 - accuracy: 0.9738 - val_loss: 0.1056 - val_accuracy: 0.9734\n",
      "Epoch 82/100\n",
      "12/12 [==============================] - 0s 17ms/step - loss: 0.1044 - accuracy: 0.9738 - val_loss: 0.1053 - val_accuracy: 0.9734\n",
      "Epoch 83/100\n",
      "12/12 [==============================] - 0s 20ms/step - loss: 0.1039 - accuracy: 0.9738 - val_loss: 0.1050 - val_accuracy: 0.9734\n",
      "Epoch 84/100\n",
      "12/12 [==============================] - 0s 17ms/step - loss: 0.1034 - accuracy: 0.9738 - val_loss: 0.1047 - val_accuracy: 0.9734\n",
      "Epoch 85/100\n",
      "12/12 [==============================] - 0s 19ms/step - loss: 0.1029 - accuracy: 0.9738 - val_loss: 0.1044 - val_accuracy: 0.9734\n",
      "Epoch 86/100\n",
      "12/12 [==============================] - 0s 17ms/step - loss: 0.1024 - accuracy: 0.9738 - val_loss: 0.1041 - val_accuracy: 0.9734\n",
      "Epoch 87/100\n",
      "12/12 [==============================] - 0s 16ms/step - loss: 0.1020 - accuracy: 0.9738 - val_loss: 0.1038 - val_accuracy: 0.9734\n",
      "Epoch 88/100\n",
      "12/12 [==============================] - 0s 19ms/step - loss: 0.1015 - accuracy: 0.9764 - val_loss: 0.1035 - val_accuracy: 0.9734\n",
      "Epoch 89/100\n",
      "12/12 [==============================] - 0s 15ms/step - loss: 0.1011 - accuracy: 0.9764 - val_loss: 0.1033 - val_accuracy: 0.9734\n",
      "Epoch 90/100\n",
      "12/12 [==============================] - 0s 23ms/step - loss: 0.1006 - accuracy: 0.9764 - val_loss: 0.1030 - val_accuracy: 0.9734\n",
      "Epoch 91/100\n",
      "12/12 [==============================] - 0s 16ms/step - loss: 0.1002 - accuracy: 0.9764 - val_loss: 0.1028 - val_accuracy: 0.9734\n",
      "Epoch 92/100\n",
      "12/12 [==============================] - 0s 18ms/step - loss: 0.0998 - accuracy: 0.9764 - val_loss: 0.1024 - val_accuracy: 0.9734\n",
      "Epoch 93/100\n",
      "12/12 [==============================] - 0s 18ms/step - loss: 0.0994 - accuracy: 0.9790 - val_loss: 0.1022 - val_accuracy: 0.9734\n",
      "Epoch 94/100\n",
      "12/12 [==============================] - 0s 18ms/step - loss: 0.0990 - accuracy: 0.9790 - val_loss: 0.1019 - val_accuracy: 0.9734\n",
      "Epoch 95/100\n",
      "12/12 [==============================] - 0s 24ms/step - loss: 0.0986 - accuracy: 0.9790 - val_loss: 0.1017 - val_accuracy: 0.9734\n",
      "Epoch 96/100\n",
      "12/12 [==============================] - 0s 23ms/step - loss: 0.0982 - accuracy: 0.9790 - val_loss: 0.1015 - val_accuracy: 0.9734\n",
      "Epoch 97/100\n",
      "12/12 [==============================] - 0s 16ms/step - loss: 0.0978 - accuracy: 0.9790 - val_loss: 0.1012 - val_accuracy: 0.9734\n",
      "Epoch 98/100\n",
      "12/12 [==============================] - 0s 19ms/step - loss: 0.0974 - accuracy: 0.9790 - val_loss: 0.1010 - val_accuracy: 0.9734\n",
      "Epoch 99/100\n",
      "12/12 [==============================] - 0s 18ms/step - loss: 0.0970 - accuracy: 0.9790 - val_loss: 0.1008 - val_accuracy: 0.9734\n",
      "Epoch 100/100\n",
      "12/12 [==============================] - 0s 16ms/step - loss: 0.0967 - accuracy: 0.9790 - val_loss: 0.1005 - val_accuracy: 0.9734\n",
      "12/12 [==============================] - 0s 3ms/step - loss: 0.0964 - accuracy: 0.9790\n",
      "Train score: [0.09642128646373749, 0.9790025949478149]\n",
      "6/6 [==============================] - 0s 4ms/step - loss: 0.1005 - accuracy: 0.9734\n",
      "Test score: [0.10050566494464874, 0.9734042286872864]\n"
     ]
    }
   ],
   "source": [
    "model = tf.keras.models.Sequential([\n",
    "    tf.keras.layers.Input(shape=(D,)),\n",
    "    tf.keras.layers.Dense(1, activation ='sigmoid')\n",
    "])\n",
    "\n",
    "model.compile(optimizer='adam',loss ='binary_crossentropy',metrics='accuracy')\n",
    "\n",
    "r =model.fit(x_train, y_train, validation_data=(x_test,y_test),epochs=100)\n",
    "\n",
    "print('Train score:',model.evaluate(x_train,y_train))\n",
    "print('Test score:',model.evaluate(x_test,y_test))"
   ]
  },
  {
   "cell_type": "code",
   "execution_count": 29,
   "metadata": {},
   "outputs": [],
   "source": [
    "import matplotlib.pyplot as plt\n",
    "import seaborn as sns\n",
    "sns.set()"
   ]
  },
  {
   "cell_type": "code",
   "execution_count": 30,
   "metadata": {},
   "outputs": [
    {
     "data": {
      "text/plain": [
       "<matplotlib.legend.Legend at 0x1ee52569548>"
      ]
     },
     "execution_count": 30,
     "metadata": {},
     "output_type": "execute_result"
    },
    {
     "data": {
      "image/png": "[encoded data removed]",
      "text/plain": [
       "<Figure size 432x288 with 1 Axes>"
      ]
     },
     "metadata": {},
     "output_type": "display_data"
    }
   ],
   "source": [
    "plt.plot(r.history['loss'],label='loss')\n",
    "plt.plot(r.history['val_loss'], label='val_loss')\n",
    "plt.legend()"
   ]
  },
  {
   "cell_type": "code",
   "execution_count": 31,
   "metadata": {},
   "outputs": [
    {
     "data": {
      "text/plain": [
       "<matplotlib.legend.Legend at 0x1ee545fa888>"
      ]
     },
     "execution_count": 31,
     "metadata": {},
     "output_type": "execute_result"
    },
    {
     "data": {
      "image/png": "[encoded data removed]",
      "text/plain": [
       "<Figure size 432x288 with 1 Axes>"
      ]
     },
     "metadata": {},
     "output_type": "display_data"
    }
   ],
   "source": [
    "plt.plot(r.history['accuracy'],label='acc')\n",
    "plt.plot(r.history['val_accuracy'],label='val_acc')\n",
    "plt.legend()"
   ]
  },
  {
   "cell_type": "code",
   "execution_count": null,
   "metadata": {},
   "outputs": [],
   "source": []
  }
 ],
 "metadata": {
  "kernelspec": {
   "display_name": "Python [conda env:py3-TF2.0]",
   "language": "python",
   "name": "conda-env-py3-TF2.0-py"
  },
  "language_info": {
   "codemirror_mode": {
    "name": "ipython",
    "version": 3
   },
   "file_extension": ".py",
   "mimetype": "text/x-python",
   "name": "python",
   "nbconvert_exporter": "python",
   "pygments_lexer": "ipython3",
   "version": "3.7.7"
  }
 },
 "nbformat": 4,
 "nbformat_minor": 4
}
