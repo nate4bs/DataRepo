{
  "nbformat": 4,
  "nbformat_minor": 0,
  "metadata": {
    "kernelspec": {
      "display_name": "Python [conda env:py3-TF2.0]",
      "language": "python",
      "name": "conda-env-py3-TF2.0-py"
    },
    "language_info": {
      "codemirror_mode": {
        "name": "ipython",
        "version": 3
      },
      "file_extension": ".py",
      "mimetype": "text/x-python",
      "name": "python",
      "nbconvert_exporter": "python",
      "pygments_lexer": "ipython3",
      "version": "3.7.7"
    },
    "colab": {
      "name": "Transfer Learning.ipynb",
      "provenance": [],
      "collapsed_sections": []
    },
    "accelerator": "GPU"
  },
  "cells": [
    {
      "cell_type": "code",
      "metadata": {
        "id": "ttC72QVqqkqv",
        "colab_type": "code",
        "colab": {
          "base_uri": "https://localhost:8080/",
          "height": 72
        },
        "outputId": "31e10220-3ffd-4e2f-fdb3-5479ea167c94"
      },
      "source": [
        "import numpy as np\n",
        "import pandas as pd\n",
        "import matplotlib.pyplot as plt\n",
        "import seaborn as sns\n",
        "sns.set()\n",
        "import tensorflow as tf"
      ],
      "execution_count": 1,
      "outputs": [
        {
          "output_type": "stream",
          "text": [
            "/usr/local/lib/python3.6/dist-packages/statsmodels/tools/_testing.py:19: FutureWarning: pandas.util.testing is deprecated. Use the functions in the public API at pandas.testing instead.\n",
            "  import pandas.util.testing as tm\n"
          ],
          "name": "stderr"
        }
      ]
    },
    {
      "cell_type": "code",
      "metadata": {
        "id": "tGcMJZAV19UN",
        "colab_type": "code",
        "colab": {
          "base_uri": "https://localhost:8080/",
          "height": 124
        },
        "outputId": "15cf2fd4-466e-4fb0-bcf8-a55f4c20b388"
      },
      "source": [
        "from google.colab import drive\n",
        "drive.mount('/content/drive')"
      ],
      "execution_count": 7,
      "outputs": [
        {
          "output_type": "stream",
          "text": [
            "Go to this URL in a browser: https://accounts.google.com/o/oauth2/auth?client_id=947318989803-6bn6qk8qdgf4n4g3pfee6491hc0brc4i.apps.googleusercontent.com&redirect_uri=urn%3aietf%3awg%3aoauth%3a2.0%3aoob&response_type=code&scope=email%20https%3a%2f%2fwww.googleapis.com%2fauth%2fdocs.test%20https%3a%2f%2fwww.googleapis.com%2fauth%2fdrive%20https%3a%2f%2fwww.googleapis.com%2fauth%2fdrive.photos.readonly%20https%3a%2f%2fwww.googleapis.com%2fauth%2fpeopleapi.readonly\n",
            "\n",
            "Enter your authorization code:\n",
            "··········\n",
            "Mounted at /content/drive\n"
          ],
          "name": "stdout"
        }
      ]
    },
    {
      "cell_type": "code",
      "metadata": {
        "id": "U-CbJU5Fqkq5",
        "colab_type": "code",
        "colab": {}
      },
      "source": [
        "from tensorflow.keras.layers import Input, Dense, Flatten\n",
        "from tensorflow.keras.applications.vgg16 import VGG16 as PretrainedModel, preprocess_input\n",
        "from tensorflow.keras.models import Model\n",
        "from tensorflow.keras.optimizers import SGD, Adam\n",
        "from tensorflow.keras.preprocessing import image\n",
        "from tensorflow.keras.preprocessing.image import ImageDataGenerator\n",
        "\n",
        "from glob import glob\n",
        "from PIL import Image\n",
        "import sys, os"
      ],
      "execution_count": 8,
      "outputs": []
    },
    {
      "cell_type": "code",
      "metadata": {
        "id": "UJWY8yicqkq_",
        "colab_type": "code",
        "colab": {}
      },
      "source": [
        "train_path = r\"/content/drive/My Drive/data/train\"\n",
        "valid_path = r\"/content/drive/My Drive/data/test\""
      ],
      "execution_count": 9,
      "outputs": []
    },
    {
      "cell_type": "code",
      "metadata": {
        "id": "fHXp4dVaqkrF",
        "colab_type": "code",
        "colab": {}
      },
      "source": [
        "IMAGE_SIZE = [200,200]"
      ],
      "execution_count": 10,
      "outputs": []
    },
    {
      "cell_type": "code",
      "metadata": {
        "id": "8jy5M97YqkrK",
        "colab_type": "code",
        "colab": {}
      },
      "source": [
        "image_files = glob(train_path + '/*/*.jpg')\n",
        "valid_image_files = glob(valid_path + '/*/*.jpg')"
      ],
      "execution_count": 11,
      "outputs": []
    },
    {
      "cell_type": "code",
      "metadata": {
        "id": "P8isfjT5qkrb",
        "colab_type": "code",
        "colab": {
          "base_uri": "https://localhost:8080/",
          "height": 52
        },
        "outputId": "23262b39-d35a-4407-8ff1-45a2858d2ee0"
      },
      "source": [
        "folders = glob(train_path + '/*')\n",
        "folders"
      ],
      "execution_count": 12,
      "outputs": [
        {
          "output_type": "execute_result",
          "data": {
            "text/plain": [
              "['/content/drive/My Drive/data/train/food',\n",
              " '/content/drive/My Drive/data/train/nonfood']"
            ]
          },
          "metadata": {
            "tags": []
          },
          "execution_count": 12
        }
      ]
    },
    {
      "cell_type": "code",
      "metadata": {
        "id": "4rcXCCsvqkrz",
        "colab_type": "code",
        "colab": {
          "base_uri": "https://localhost:8080/",
          "height": 289
        },
        "outputId": "6da593b2-2181-4877-87f3-285eaefc356b"
      },
      "source": [
        "plt.imshow(image.load_img(np.random.choice(image_files)))"
      ],
      "execution_count": 13,
      "outputs": [
        {
          "output_type": "execute_result",
          "data": {
            "text/plain": [
              "<matplotlib.image.AxesImage at 0x7fd07594dba8>"
            ]
          },
          "metadata": {
            "tags": []
          },
          "execution_count": 13
        },
        {
          "output_type": "display_data",
          "data": {
            "image/png": "[encoded data removed]",
            "text/plain": [
              "<Figure size 432x288 with 1 Axes>"
            ]
          },
          "metadata": {
            "tags": [],
            "needs_background": "light"
          }
        }
      ]
    },
    {
      "cell_type": "code",
      "metadata": {
        "id": "GdRoucAkqksC",
        "colab_type": "code",
        "colab": {
          "base_uri": "https://localhost:8080/",
          "height": 72
        },
        "outputId": "ab5be009-5afc-4945-c157-34db8ebb59d0"
      },
      "source": [
        "ptm = PretrainedModel(\n",
        "    input_shape = IMAGE_SIZE + [3],\n",
        "    weights = 'imagenet',\n",
        "    include_top=False\n",
        ")"
      ],
      "execution_count": 14,
      "outputs": [
        {
          "output_type": "stream",
          "text": [
            "Downloading data from https://storage.googleapis.com/tensorflow/keras-applications/vgg16/vgg16_weights_tf_dim_ordering_tf_kernels_notop.h5\n",
            "58892288/58889256 [==============================] - 1s 0us/step\n"
          ],
          "name": "stdout"
        }
      ]
    },
    {
      "cell_type": "code",
      "metadata": {
        "id": "z0ruOM96qksP",
        "colab_type": "code",
        "colab": {}
      },
      "source": [
        "x = Flatten()(ptm.output)"
      ],
      "execution_count": 15,
      "outputs": []
    },
    {
      "cell_type": "code",
      "metadata": {
        "id": "pA0FGpAVqksY",
        "colab_type": "code",
        "colab": {}
      },
      "source": [
        "model = Model(inputs=ptm.input,outputs=x)"
      ],
      "execution_count": 16,
      "outputs": []
    },
    {
      "cell_type": "code",
      "metadata": {
        "id": "K5xtNnV3qksg",
        "colab_type": "code",
        "colab": {
          "base_uri": "https://localhost:8080/",
          "height": 849
        },
        "outputId": "739570e3-c328-4ce6-f6fb-7fcdd7876c22"
      },
      "source": [
        "model.summary()"
      ],
      "execution_count": 17,
      "outputs": [
        {
          "output_type": "stream",
          "text": [
            "Model: \"model\"\n",
            "_________________________________________________________________\n",
            "Layer (type)                 Output Shape              Param #   \n",
            "=================================================================\n",
            "input_1 (InputLayer)         [(None, 200, 200, 3)]     0         \n",
            "_________________________________________________________________\n",
            "block1_conv1 (Conv2D)        (None, 200, 200, 64)      1792      \n",
            "_________________________________________________________________\n",
            "block1_conv2 (Conv2D)        (None, 200, 200, 64)      36928     \n",
            "_________________________________________________________________\n",
            "block1_pool (MaxPooling2D)   (None, 100, 100, 64)      0         \n",
            "_________________________________________________________________\n",
            "block2_conv1 (Conv2D)        (None, 100, 100, 128)     73856     \n",
            "_________________________________________________________________\n",
            "block2_conv2 (Conv2D)        (None, 100, 100, 128)     147584    \n",
            "_________________________________________________________________\n",
            "block2_pool (MaxPooling2D)   (None, 50, 50, 128)       0         \n",
            "_________________________________________________________________\n",
            "block3_conv1 (Conv2D)        (None, 50, 50, 256)       295168    \n",
            "_________________________________________________________________\n",
            "block3_conv2 (Conv2D)        (None, 50, 50, 256)       590080    \n",
            "_________________________________________________________________\n",
            "block3_conv3 (Conv2D)        (None, 50, 50, 256)       590080    \n",
            "_________________________________________________________________\n",
            "block3_pool (MaxPooling2D)   (None, 25, 25, 256)       0         \n",
            "_________________________________________________________________\n",
            "block4_conv1 (Conv2D)        (None, 25, 25, 512)       1180160   \n",
            "_________________________________________________________________\n",
            "block4_conv2 (Conv2D)        (None, 25, 25, 512)       2359808   \n",
            "_________________________________________________________________\n",
            "block4_conv3 (Conv2D)        (None, 25, 25, 512)       2359808   \n",
            "_________________________________________________________________\n",
            "block4_pool (MaxPooling2D)   (None, 12, 12, 512)       0         \n",
            "_________________________________________________________________\n",
            "block5_conv1 (Conv2D)        (None, 12, 12, 512)       2359808   \n",
            "_________________________________________________________________\n",
            "block5_conv2 (Conv2D)        (None, 12, 12, 512)       2359808   \n",
            "_________________________________________________________________\n",
            "block5_conv3 (Conv2D)        (None, 12, 12, 512)       2359808   \n",
            "_________________________________________________________________\n",
            "block5_pool (MaxPooling2D)   (None, 6, 6, 512)         0         \n",
            "_________________________________________________________________\n",
            "flatten (Flatten)            (None, 18432)             0         \n",
            "=================================================================\n",
            "Total params: 14,714,688\n",
            "Trainable params: 14,714,688\n",
            "Non-trainable params: 0\n",
            "_________________________________________________________________\n"
          ],
          "name": "stdout"
        }
      ]
    },
    {
      "cell_type": "code",
      "metadata": {
        "id": "Hd-S5DLaqkso",
        "colab_type": "code",
        "colab": {}
      },
      "source": [
        "gen = ImageDataGenerator(preprocessing_function=preprocess_input)"
      ],
      "execution_count": 18,
      "outputs": []
    },
    {
      "cell_type": "code",
      "metadata": {
        "id": "5S9X_t-eqktA",
        "colab_type": "code",
        "colab": {
          "base_uri": "https://localhost:8080/",
          "height": 52
        },
        "outputId": "79ce8c8f-b9b5-4a61-c8e2-22a335311103"
      },
      "source": [
        "batch_size=128\n",
        "\n",
        "train_generator = gen.flow_from_directory(\n",
        "    train_path,\n",
        "    target_size = IMAGE_SIZE,\n",
        "    batch_size = batch_size,\n",
        "    class_mode='binary'\n",
        ")\n",
        "\n",
        "valid_generator = gen.flow_from_directory(\n",
        "    valid_path,\n",
        "    target_size = IMAGE_SIZE,\n",
        "    batch_size = batch_size,\n",
        "    class_mode='binary'    \n",
        ")"
      ],
      "execution_count": 19,
      "outputs": [
        {
          "output_type": "stream",
          "text": [
            "Found 3000 images belonging to 2 classes.\n",
            "Found 1000 images belonging to 2 classes.\n"
          ],
          "name": "stdout"
        }
      ]
    },
    {
      "cell_type": "code",
      "metadata": {
        "id": "Fqr4PjI1qktK",
        "colab_type": "code",
        "colab": {}
      },
      "source": [
        "Ntrain = len(image_files)\n",
        "Nvalid = len(valid_image_files)\n",
        "\n",
        "feat = model.predict(np.random.random([1]+ IMAGE_SIZE + [3]))\n",
        "D = feat.shape[1]\n",
        "\n",
        "X_train = np.zeros((Ntrain,D))\n",
        "Y_train = np.zeros(Ntrain)\n",
        "X_valid = np.zeros((Nvalid,D))\n",
        "Y_valid = np.zeros(Nvalid)"
      ],
      "execution_count": 20,
      "outputs": []
    },
    {
      "cell_type": "code",
      "metadata": {
        "id": "a_lrYr5dqktT",
        "colab_type": "code",
        "colab": {
          "base_uri": "https://localhost:8080/",
          "height": 468
        },
        "outputId": "63dacd80-abe5-4b52-9c44-04bef909182a"
      },
      "source": [
        "i = 0\n",
        "for x,y in train_generator:\n",
        "    features = model.predict(x)\n",
        "    \n",
        "    sz = len(y)\n",
        "    \n",
        "    X_train[i:i+sz] = features\n",
        "    Y_train[i:i+sz] = y\n",
        "    \n",
        "    i += sz\n",
        "    \n",
        "    print(i)\n",
        "    \n",
        "    if i>= Ntrain:\n",
        "        print('breaking now')\n",
        "        break\n",
        "print(i)"
      ],
      "execution_count": 21,
      "outputs": [
        {
          "output_type": "stream",
          "text": [
            "128\n",
            "256\n",
            "384\n",
            "512\n",
            "640\n",
            "768\n",
            "896\n",
            "1024\n",
            "1152\n",
            "1280\n",
            "1408\n",
            "1536\n",
            "1664\n",
            "1792\n",
            "1920\n",
            "2048\n",
            "2176\n",
            "2304\n",
            "2432\n",
            "2560\n",
            "2688\n",
            "2816\n",
            "2944\n",
            "3000\n",
            "breaking now\n",
            "3000\n"
          ],
          "name": "stdout"
        }
      ]
    },
    {
      "cell_type": "code",
      "metadata": {
        "id": "2SsApGIeqktc",
        "colab_type": "code",
        "colab": {
          "base_uri": "https://localhost:8080/",
          "height": 52
        },
        "outputId": "c2d36027-87d9-46d7-9d96-c451b0c9124f"
      },
      "source": [
        "i = 0\n",
        "\n",
        "for x,y in valid_generator:\n",
        "    features = model.predict(x)\n",
        "    \n",
        "    sz = len(y)\n",
        "    \n",
        "    X_valid[i:i+sz] = features\n",
        "    Y_valid[i:i+sz] = y\n",
        "    \n",
        "    i += sz\n",
        "    \n",
        "    if i >= Nvalid:\n",
        "        print('breaking now')\n",
        "        break\n",
        "print(i)"
      ],
      "execution_count": 22,
      "outputs": [
        {
          "output_type": "stream",
          "text": [
            "breaking now\n",
            "1000\n"
          ],
          "name": "stdout"
        }
      ]
    },
    {
      "cell_type": "code",
      "metadata": {
        "id": "7wn_b3JUqkth",
        "colab_type": "code",
        "colab": {
          "base_uri": "https://localhost:8080/",
          "height": 35
        },
        "outputId": "97b9fc52-0a79-46b0-cd18-d211aabea4c5"
      },
      "source": [
        "X_train.max(), X_train.min()"
      ],
      "execution_count": 23,
      "outputs": [
        {
          "output_type": "execute_result",
          "data": {
            "text/plain": [
              "(650.8261108398438, 0.0)"
            ]
          },
          "metadata": {
            "tags": []
          },
          "execution_count": 23
        }
      ]
    },
    {
      "cell_type": "code",
      "metadata": {
        "id": "w7E7A4C4qktn",
        "colab_type": "code",
        "colab": {}
      },
      "source": [
        "from sklearn.preprocessing import StandardScaler\n",
        "\n",
        "scaler = StandardScaler()\n",
        "X_train2 =scaler.fit_transform(X_train)\n",
        "X_valid = scaler.transform(X_valid)"
      ],
      "execution_count": 24,
      "outputs": []
    },
    {
      "cell_type": "code",
      "metadata": {
        "id": "M9FDA5Diqktz",
        "colab_type": "code",
        "colab": {
          "base_uri": "https://localhost:8080/",
          "height": 52
        },
        "outputId": "c1d8e9d1-2112-4641-b6e2-5aca72bf0b86"
      },
      "source": [
        "from sklearn.linear_model import LogisticRegression\n",
        "logr = LogisticRegression()\n",
        "logr.fit(X_train2, Y_train)\n",
        "print(logr.score(X_train2,Y_train))\n",
        "print(logr.score(X_valid,Y_valid))"
      ],
      "execution_count": 25,
      "outputs": [
        {
          "output_type": "stream",
          "text": [
            "1.0\n",
            "0.979\n"
          ],
          "name": "stdout"
        }
      ]
    },
    {
      "cell_type": "code",
      "metadata": {
        "id": "gtlIKNBsqkt4",
        "colab_type": "code",
        "colab": {}
      },
      "source": [
        "i = Input(shape=(D,))\n",
        "x = Dense(1, activation = 'sigmoid')(i)\n",
        "linearmodel = Model(i,x)"
      ],
      "execution_count": 29,
      "outputs": []
    },
    {
      "cell_type": "code",
      "metadata": {
        "id": "fJhfBddIqkt9",
        "colab_type": "code",
        "colab": {}
      },
      "source": [
        "linearmodel.compile(\n",
        "    loss = 'binary_crossentropy',\n",
        "    optimizer = 'adam',\n",
        "    metrics = ['accuracy']\n",
        ")"
      ],
      "execution_count": 30,
      "outputs": []
    },
    {
      "cell_type": "code",
      "metadata": {
        "id": "ptXYhM1HqkuD",
        "colab_type": "code",
        "colab": {
          "base_uri": "https://localhost:8080/",
          "height": 384
        },
        "outputId": "6fd75d92-1e4a-4576-f58a-67588c34cf70"
      },
      "source": [
        "r = linearmodel.fit(\n",
        "    X_train, Y_train,\n",
        "    batch_size = 128,\n",
        "    epochs = 10,\n",
        "    validation_data=(X_valid, Y_valid)\n",
        ")"
      ],
      "execution_count": 31,
      "outputs": [
        {
          "output_type": "stream",
          "text": [
            "Epoch 1/10\n",
            "24/24 [==============================] - 0s 15ms/step - loss: 1.2195 - accuracy: 0.9213 - val_loss: 0.0748 - val_accuracy: 0.9720\n",
            "Epoch 2/10\n",
            "24/24 [==============================] - 0s 9ms/step - loss: 0.0530 - accuracy: 0.9940 - val_loss: 0.0757 - val_accuracy: 0.9700\n",
            "Epoch 3/10\n",
            "24/24 [==============================] - 0s 9ms/step - loss: 0.0011 - accuracy: 0.9997 - val_loss: 0.0751 - val_accuracy: 0.9690\n",
            "Epoch 4/10\n",
            "24/24 [==============================] - 0s 10ms/step - loss: 5.0581e-05 - accuracy: 1.0000 - val_loss: 0.0747 - val_accuracy: 0.9680\n",
            "Epoch 5/10\n",
            "24/24 [==============================] - 0s 10ms/step - loss: 2.1468e-05 - accuracy: 1.0000 - val_loss: 0.0746 - val_accuracy: 0.9680\n",
            "Epoch 6/10\n",
            "24/24 [==============================] - 0s 10ms/step - loss: 1.6102e-05 - accuracy: 1.0000 - val_loss: 0.0745 - val_accuracy: 0.9680\n",
            "Epoch 7/10\n",
            "24/24 [==============================] - 0s 10ms/step - loss: 1.3315e-05 - accuracy: 1.0000 - val_loss: 0.0745 - val_accuracy: 0.9680\n",
            "Epoch 8/10\n",
            "24/24 [==============================] - 0s 9ms/step - loss: 1.0994e-05 - accuracy: 1.0000 - val_loss: 0.0745 - val_accuracy: 0.9680\n",
            "Epoch 9/10\n",
            "24/24 [==============================] - 0s 9ms/step - loss: 9.6393e-06 - accuracy: 1.0000 - val_loss: 0.0744 - val_accuracy: 0.9680\n",
            "Epoch 10/10\n",
            "24/24 [==============================] - 0s 9ms/step - loss: 8.3909e-06 - accuracy: 1.0000 - val_loss: 0.0744 - val_accuracy: 0.9680\n"
          ],
          "name": "stdout"
        }
      ]
    },
    {
      "cell_type": "code",
      "metadata": {
        "id": "GeZje9r0qkuL",
        "colab_type": "code",
        "colab": {
          "base_uri": "https://localhost:8080/",
          "height": 285
        },
        "outputId": "94877d17-394f-4896-fb4e-b942c264adf9"
      },
      "source": [
        "plt.plot(r.history['loss'],label='loss')\n",
        "plt.plot(r.history['val_loss'],label='val_loss')\n",
        "plt.legend()"
      ],
      "execution_count": 34,
      "outputs": [
        {
          "output_type": "execute_result",
          "data": {
            "text/plain": [
              "<matplotlib.legend.Legend at 0x7fceb5ebd5c0>"
            ]
          },
          "metadata": {
            "tags": []
          },
          "execution_count": 34
        },
        {
          "output_type": "display_data",
          "data": {
            "image/png": "[encoded data removed]",
            "text/plain": [
              "<Figure size 432x288 with 1 Axes>"
            ]
          },
          "metadata": {
            "tags": [],
            "needs_background": "light"
          }
        }
      ]
    },
    {
      "cell_type": "code",
      "metadata": {
        "id": "2qRAWD-QqkuQ",
        "colab_type": "code",
        "colab": {
          "base_uri": "https://localhost:8080/",
          "height": 285
        },
        "outputId": "5fff4085-ca2f-4832-b772-ba96007cfa6f"
      },
      "source": [
        "plt.plot(r.history['accuracy'],label='accuracy')\n",
        "plt.plot(r.history['val_accuracy'],label='val_accuracy')\n",
        "plt.legend()"
      ],
      "execution_count": 35,
      "outputs": [
        {
          "output_type": "execute_result",
          "data": {
            "text/plain": [
              "<matplotlib.legend.Legend at 0x7fceb5e2ba20>"
            ]
          },
          "metadata": {
            "tags": []
          },
          "execution_count": 35
        },
        {
          "output_type": "display_data",
          "data": {
            "image/png": "[encoded data removed]",
            "text/plain": [
              "<Figure size 432x288 with 1 Axes>"
            ]
          },
          "metadata": {
            "tags": [],
            "needs_background": "light"
          }
        }
      ]
    },
    {
      "cell_type": "code",
      "metadata": {
        "id": "i_Y8AB2L4QkP",
        "colab_type": "code",
        "colab": {}
      },
      "source": [
        ""
      ],
      "execution_count": null,
      "outputs": []
    }
  ]
}