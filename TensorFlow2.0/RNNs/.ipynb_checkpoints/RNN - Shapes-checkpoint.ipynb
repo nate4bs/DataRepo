{
 "cells": [
  {
   "cell_type": "code",
   "execution_count": 1,
   "metadata": {},
   "outputs": [],
   "source": [
    "import numpy as np\n",
    "import pandas as pd\n",
    "import matplotlib.pyplot as plt\n",
    "import seaborn as sns\n",
    "sns.set()\n",
    "import tensorflow as tf\n",
    "from tensorflow.keras.layers import Input, Dense, SimpleRNN, Flatten\n",
    "from tensorflow.keras.models import Model\n",
    "from tensorflow.keras.optimizers import SGD, Adam"
   ]
  },
  {
   "cell_type": "code",
   "execution_count": 2,
   "metadata": {},
   "outputs": [],
   "source": [
    "N = 1\n",
    "T = 10\n",
    "D = 3\n",
    "K = 2\n",
    "X = np.random.rand(N,T,D)"
   ]
  },
  {
   "cell_type": "code",
   "execution_count": 4,
   "metadata": {},
   "outputs": [],
   "source": [
    "M = 5 # number of hidden units\n",
    "i = Input(shape=(T,D))\n",
    "x = SimpleRNN(M)(i)\n",
    "x = Dense(K)(x)\n",
    "\n",
    "model = Model(i,x)"
   ]
  },
  {
   "cell_type": "code",
   "execution_count": 6,
   "metadata": {},
   "outputs": [
    {
     "data": {
      "text/plain": [
       "array([[-1.6171232,  0.5460532]], dtype=float32)"
      ]
     },
     "execution_count": 6,
     "metadata": {},
     "output_type": "execute_result"
    }
   ],
   "source": [
    "# Get output\n",
    "Yhat = model.predict(X)\n",
    "Yhat"
   ]
  },
  {
   "cell_type": "code",
   "execution_count": 7,
   "metadata": {},
   "outputs": [
    {
     "name": "stdout",
     "output_type": "stream",
     "text": [
      "Model: \"model\"\n",
      "_________________________________________________________________\n",
      "Layer (type)                 Output Shape              Param #   \n",
      "=================================================================\n",
      "input_1 (InputLayer)         [(None, 10, 3)]           0         \n",
      "_________________________________________________________________\n",
      "simple_rnn (SimpleRNN)       (None, 5)                 45        \n",
      "_________________________________________________________________\n",
      "dense (Dense)                (None, 2)                 12        \n",
      "=================================================================\n",
      "Total params: 57\n",
      "Trainable params: 57\n",
      "Non-trainable params: 0\n",
      "_________________________________________________________________\n"
     ]
    }
   ],
   "source": [
    "model.summary()"
   ]
  },
  {
   "cell_type": "code",
   "execution_count": 8,
   "metadata": {},
   "outputs": [
    {
     "data": {
      "text/plain": [
       "[array([[ 0.6005083 ,  0.45847172,  0.6281082 , -0.17877835, -0.4624193 ],\n",
       "        [ 0.35695213, -0.29962927,  0.385979  , -0.65406567, -0.02603072],\n",
       "        [ 0.12901855, -0.11356992,  0.28947717, -0.5322682 ,  0.1664744 ]],\n",
       "       dtype=float32),\n",
       " array([[ 7.6740456e-01, -4.2393076e-01, -3.5534546e-02, -4.5813087e-01,\n",
       "         -1.4221908e-01],\n",
       "        [-1.8088230e-01, -1.1269168e-01,  4.1929910e-01,  4.2399541e-02,\n",
       "         -8.8146055e-01],\n",
       "        [ 3.8902679e-01,  4.9105853e-01,  7.4552929e-01,  7.2520092e-02,\n",
       "          2.1551517e-01],\n",
       "        [ 4.7647658e-01,  2.3901719e-01, -3.9227021e-01,  6.9477773e-01,\n",
       "         -2.8151196e-01],\n",
       "        [ 3.0127610e-05,  7.1366346e-01, -3.3650574e-01, -5.4803586e-01,\n",
       "         -2.7767810e-01]], dtype=float32),\n",
       " array([0., 0., 0., 0., 0.], dtype=float32)]"
      ]
     },
     "execution_count": 8,
     "metadata": {},
     "output_type": "execute_result"
    }
   ],
   "source": [
    "model.layers[1].get_weights()"
   ]
  },
  {
   "cell_type": "code",
   "execution_count": 9,
   "metadata": {},
   "outputs": [
    {
     "name": "stdout",
     "output_type": "stream",
     "text": [
      "(3, 5) (5, 5) (5,)\n"
     ]
    }
   ],
   "source": [
    "a ,b ,c = model.layers[1].get_weights()\n",
    "print(a.shape,b.shape,c.shape)"
   ]
  },
  {
   "cell_type": "code",
   "execution_count": 10,
   "metadata": {},
   "outputs": [],
   "source": [
    "Wx , Wh, bh = model.layers[1].get_weights()\n",
    "Wo , bo = model.layers[2].get_weights()"
   ]
  },
  {
   "cell_type": "code",
   "execution_count": 13,
   "metadata": {},
   "outputs": [
    {
     "name": "stdout",
     "output_type": "stream",
     "text": [
      "[-1.61712326  0.54605308]\n"
     ]
    }
   ],
   "source": [
    "h_last = np.zeros(M) # Initial hidden state\n",
    "x = X[0]\n",
    "Yhats = []\n",
    "for t in range(T):\n",
    "    h = np.tanh(x[t].dot(Wx) + h_last.dot(Wh) + bh)\n",
    "    y = h.dot(Wo) + bo #Only need this value for last iter\n",
    "    Yhats.append(y)\n",
    "    \n",
    "    #assign h t h_last\n",
    "    h_last = h\n",
    "print(Yhats[-1])"
   ]
  },
  {
   "cell_type": "code",
   "execution_count": null,
   "metadata": {},
   "outputs": [],
   "source": []
  }
 ],
 "metadata": {
  "kernelspec": {
   "display_name": "Python [conda env:py3-TF2.0]",
   "language": "python",
   "name": "conda-env-py3-TF2.0-py"
  },
  "language_info": {
   "codemirror_mode": {
    "name": "ipython",
    "version": 3
   },
   "file_extension": ".py",
   "mimetype": "text/x-python",
   "name": "python",
   "nbconvert_exporter": "python",
   "pygments_lexer": "ipython3",
   "version": "3.7.7"
  }
 },
 "nbformat": 4,
 "nbformat_minor": 4
}
