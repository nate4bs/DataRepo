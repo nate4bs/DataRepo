{
  "nbformat": 4,
  "nbformat_minor": 0,
  "metadata": {
    "kernelspec": {
      "display_name": "Python [conda env:py3-TF2.0]",
      "language": "python",
      "name": "conda-env-py3-TF2.0-py"
    },
    "language_info": {
      "codemirror_mode": {
        "name": "ipython",
        "version": 3
      },
      "file_extension": ".py",
      "mimetype": "text/x-python",
      "name": "python",
      "nbconvert_exporter": "python",
      "pygments_lexer": "ipython3",
      "version": "3.7.7"
    },
    "colab": {
      "name": "Recommender System.ipynb",
      "provenance": [],
      "collapsed_sections": []
    },
    "accelerator": "GPU"
  },
  "cells": [
    {
      "cell_type": "code",
      "metadata": {
        "id": "Gll8T4iS7uNf",
        "colab_type": "code",
        "colab": {
          "base_uri": "https://localhost:8080/",
          "height": 72
        },
        "outputId": "e421cd1a-9b13-4446-b8f8-0aa9b08a98d7"
      },
      "source": [
        "import numpy as np\n",
        "import pandas as pd\n",
        "import tensorflow as tf\n",
        "import matplotlib.pyplot as plt\n",
        "import seaborn as sns\n",
        "sns.set()"
      ],
      "execution_count": 3,
      "outputs": [
        {
          "output_type": "stream",
          "text": [
            "/usr/local/lib/python3.6/dist-packages/statsmodels/tools/_testing.py:19: FutureWarning: pandas.util.testing is deprecated. Use the functions in the public API at pandas.testing instead.\n",
            "  import pandas.util.testing as tm\n"
          ],
          "name": "stderr"
        }
      ]
    },
    {
      "cell_type": "code",
      "metadata": {
        "id": "_v67oNOY7uOV",
        "colab_type": "code",
        "colab": {}
      },
      "source": [
        "from tensorflow.keras.layers import Input, Dense, Embedding, Flatten, Concatenate\n",
        "from tensorflow.keras.models import Model\n",
        "from tensorflow.keras.optimizers import SGD, Adam\n",
        "\n",
        "from sklearn.utils import shuffle"
      ],
      "execution_count": 4,
      "outputs": []
    },
    {
      "cell_type": "code",
      "metadata": {
        "id": "t96HYUU17y3r",
        "colab_type": "code",
        "colab": {
          "base_uri": "https://localhost:8080/",
          "height": 228
        },
        "outputId": "8eeefcb3-0f82-4557-dc7b-c96434100ee7"
      },
      "source": [
        "!wget -nc http://files.grouplens.org/datasets/movielens/ml-20m.zip"
      ],
      "execution_count": 8,
      "outputs": [
        {
          "output_type": "stream",
          "text": [
            "--2020-06-22 21:32:49--  http://files.grouplens.org/datasets/movielens/ml-20m.zip\n",
            "Resolving files.grouplens.org (files.grouplens.org)... 128.101.65.152\n",
            "Connecting to files.grouplens.org (files.grouplens.org)|128.101.65.152|:80... connected.\n",
            "HTTP request sent, awaiting response... 200 OK\n",
            "Length: 198702078 (189M) [application/zip]\n",
            "Saving to: ‘ml-20m.zip’\n",
            "\n",
            "ml-20m.zip          100%[===================>] 189.50M  25.6MB/s    in 8.0s    \n",
            "\n",
            "2020-06-22 21:32:58 (23.6 MB/s) - ‘ml-20m.zip’ saved [198702078/198702078]\n",
            "\n"
          ],
          "name": "stdout"
        }
      ]
    },
    {
      "cell_type": "code",
      "metadata": {
        "id": "T0xxdB8i78Kd",
        "colab_type": "code",
        "colab": {
          "base_uri": "https://localhost:8080/",
          "height": 173
        },
        "outputId": "f91ff20e-b460-4e73-ec22-693793ac1389"
      },
      "source": [
        "!unzip -n ml-20m.zip"
      ],
      "execution_count": 9,
      "outputs": [
        {
          "output_type": "stream",
          "text": [
            "Archive:  ml-20m.zip\n",
            "   creating: ml-20m/\n",
            "  inflating: ml-20m/genome-scores.csv  \n",
            "  inflating: ml-20m/genome-tags.csv  \n",
            "  inflating: ml-20m/links.csv        \n",
            "  inflating: ml-20m/movies.csv       \n",
            "  inflating: ml-20m/ratings.csv      \n",
            "  inflating: ml-20m/README.txt       \n",
            "  inflating: ml-20m/tags.csv         \n"
          ],
          "name": "stdout"
        }
      ]
    },
    {
      "cell_type": "code",
      "metadata": {
        "id": "O0e8TuPY8G4b",
        "colab_type": "code",
        "colab": {
          "base_uri": "https://localhost:8080/",
          "height": 35
        },
        "outputId": "d3dc3aa9-d5f2-41b8-cdf5-3e084f2af3c8"
      },
      "source": [
        "!ls"
      ],
      "execution_count": 10,
      "outputs": [
        {
          "output_type": "stream",
          "text": [
            "ml-20m\tml-20m.zip  sample_data\n"
          ],
          "name": "stdout"
        }
      ]
    },
    {
      "cell_type": "code",
      "metadata": {
        "id": "rFSe-Rh17uPk",
        "colab_type": "code",
        "colab": {}
      },
      "source": [
        "df =pd.read_csv('ml-20m/ratings.csv')"
      ],
      "execution_count": 11,
      "outputs": []
    },
    {
      "cell_type": "code",
      "metadata": {
        "id": "1AWIvMvm7uQa",
        "colab_type": "code",
        "colab": {
          "base_uri": "https://localhost:8080/",
          "height": 202
        },
        "outputId": "609bc01b-11ee-4d58-fc12-9f08d5871780"
      },
      "source": [
        "df.head()"
      ],
      "execution_count": 12,
      "outputs": [
        {
          "output_type": "execute_result",
          "data": {
            "text/html": [
              "<div>\n",
              "<style scoped>\n",
              "    .dataframe tbody tr th:only-of-type {\n",
              "        vertical-align: middle;\n",
              "    }\n",
              "\n",
              "    .dataframe tbody tr th {\n",
              "        vertical-align: top;\n",
              "    }\n",
              "\n",
              "    .dataframe thead th {\n",
              "        text-align: right;\n",
              "    }\n",
              "</style>\n",
              "<table border=\"1\" class=\"dataframe\">\n",
              "  <thead>\n",
              "    <tr style=\"text-align: right;\">\n",
              "      <th></th>\n",
              "      <th>userId</th>\n",
              "      <th>movieId</th>\n",
              "      <th>rating</th>\n",
              "      <th>timestamp</th>\n",
              "    </tr>\n",
              "  </thead>\n",
              "  <tbody>\n",
              "    <tr>\n",
              "      <th>0</th>\n",
              "      <td>1</td>\n",
              "      <td>2</td>\n",
              "      <td>3.5</td>\n",
              "      <td>1112486027</td>\n",
              "    </tr>\n",
              "    <tr>\n",
              "      <th>1</th>\n",
              "      <td>1</td>\n",
              "      <td>29</td>\n",
              "      <td>3.5</td>\n",
              "      <td>1112484676</td>\n",
              "    </tr>\n",
              "    <tr>\n",
              "      <th>2</th>\n",
              "      <td>1</td>\n",
              "      <td>32</td>\n",
              "      <td>3.5</td>\n",
              "      <td>1112484819</td>\n",
              "    </tr>\n",
              "    <tr>\n",
              "      <th>3</th>\n",
              "      <td>1</td>\n",
              "      <td>47</td>\n",
              "      <td>3.5</td>\n",
              "      <td>1112484727</td>\n",
              "    </tr>\n",
              "    <tr>\n",
              "      <th>4</th>\n",
              "      <td>1</td>\n",
              "      <td>50</td>\n",
              "      <td>3.5</td>\n",
              "      <td>1112484580</td>\n",
              "    </tr>\n",
              "  </tbody>\n",
              "</table>\n",
              "</div>"
            ],
            "text/plain": [
              "   userId  movieId  rating   timestamp\n",
              "0       1        2     3.5  1112486027\n",
              "1       1       29     3.5  1112484676\n",
              "2       1       32     3.5  1112484819\n",
              "3       1       47     3.5  1112484727\n",
              "4       1       50     3.5  1112484580"
            ]
          },
          "metadata": {
            "tags": []
          },
          "execution_count": 12
        }
      ]
    },
    {
      "cell_type": "code",
      "metadata": {
        "id": "lybrxZEB7uRA",
        "colab_type": "code",
        "colab": {}
      },
      "source": [
        "df.userId = pd.Categorical(df.userId)\n",
        "df['new_user_id'] = df.userId.cat.codes"
      ],
      "execution_count": 13,
      "outputs": []
    },
    {
      "cell_type": "code",
      "metadata": {
        "id": "5kLg89al7uRj",
        "colab_type": "code",
        "colab": {}
      },
      "source": [
        "df.movieId = pd.Categorical(df.movieId)\n",
        "df['new_movie_id'] = df.movieId.cat.codes"
      ],
      "execution_count": 14,
      "outputs": []
    },
    {
      "cell_type": "code",
      "metadata": {
        "id": "naK5eS_t7uSH",
        "colab_type": "code",
        "colab": {}
      },
      "source": [
        "user_ids = df['new_user_id'].values\n",
        "movie_ids = df['new_movie_id'].values\n",
        "ratings = df['rating'].values"
      ],
      "execution_count": 15,
      "outputs": []
    },
    {
      "cell_type": "code",
      "metadata": {
        "id": "Ahz0fcVq7uS_",
        "colab_type": "code",
        "colab": {}
      },
      "source": [
        "N = len(set(user_ids))\n",
        "M = len(set(movie_ids))\n",
        "K = 10"
      ],
      "execution_count": 16,
      "outputs": []
    },
    {
      "cell_type": "code",
      "metadata": {
        "id": "IZRwtWaZ7uTh",
        "colab_type": "code",
        "colab": {}
      },
      "source": [
        "u = Input(shape=(1,))\n",
        "\n",
        "m = Input(shape=(1,))\n",
        "\n",
        "u_emb = Embedding(N,K)(u)\n",
        "\n",
        "m_emb = Embedding(M,K)(m)\n",
        "\n",
        "u_emb = Flatten()(u_emb)\n",
        "m_emb = Flatten()(m_emb)\n",
        "\n",
        "x = Concatenate()([u_emb,m_emb])\n",
        "\n",
        "x = Dense(1024, activation = 'relu')(x)\n",
        "x = Dense(1)(x)"
      ],
      "execution_count": 17,
      "outputs": []
    },
    {
      "cell_type": "code",
      "metadata": {
        "id": "slvGDRNK7uVD",
        "colab_type": "code",
        "colab": {}
      },
      "source": [
        "model = Model(inputs = [u,m], outputs = x)\n",
        "model.compile(\n",
        "    loss = 'mse',\n",
        "    optimizer = SGD(lr=0.08, momentum =0.9)\n",
        ")"
      ],
      "execution_count": 18,
      "outputs": []
    },
    {
      "cell_type": "code",
      "metadata": {
        "id": "XkKX4b0w7uWJ",
        "colab_type": "code",
        "colab": {}
      },
      "source": [
        "user_ids, movie_ids, ratings = shuffle(user_ids, movie_ids, ratings)"
      ],
      "execution_count": 19,
      "outputs": []
    },
    {
      "cell_type": "code",
      "metadata": {
        "id": "Y1LPwH5-7uW5",
        "colab_type": "code",
        "colab": {}
      },
      "source": [
        "Ntrain = int(0.8* len(ratings))\n",
        "train_user = user_ids[:Ntrain]\n",
        "train_movie = movie_ids[:Ntrain]\n",
        "train_ratings = ratings[:Ntrain]\n",
        "\n",
        "test_user = user_ids[Ntrain:]\n",
        "test_movie = movie_ids[Ntrain:]\n",
        "test_ratings = ratings[Ntrain:]\n",
        "\n",
        "avg_rating = train_ratings.mean()\n",
        "train_ratings = train_ratings - avg_rating\n",
        "test_ratings = test_ratings - avg_rating\n"
      ],
      "execution_count": 20,
      "outputs": []
    },
    {
      "cell_type": "code",
      "metadata": {
        "id": "6oK7nJc_7uXr",
        "colab_type": "code",
        "colab": {
          "base_uri": "https://localhost:8080/",
          "height": 884
        },
        "outputId": "3b29d7b5-bda6-4c4d-9d5c-fb20ced03bd8"
      },
      "source": [
        "r = model.fit(\n",
        "    x = [train_user, train_movie],\n",
        "    y = train_ratings,\n",
        "    epochs =25,\n",
        "    batch_size = 1024,\n",
        "    verbose=2,\n",
        "    validation_data=([test_user, test_movie], test_ratings)\n",
        ")"
      ],
      "execution_count": 21,
      "outputs": [
        {
          "output_type": "stream",
          "text": [
            "Epoch 1/25\n",
            "15626/15626 - 51s - loss: 0.7783 - val_loss: 0.7214\n",
            "Epoch 2/25\n",
            "15626/15626 - 50s - loss: 0.7019 - val_loss: 0.6992\n",
            "Epoch 3/25\n",
            "15626/15626 - 50s - loss: 0.6804 - val_loss: 0.6883\n",
            "Epoch 4/25\n",
            "15626/15626 - 50s - loss: 0.6647 - val_loss: 0.6768\n",
            "Epoch 5/25\n",
            "15626/15626 - 49s - loss: 0.6541 - val_loss: 0.6705\n",
            "Epoch 6/25\n",
            "15626/15626 - 50s - loss: 0.6422 - val_loss: 0.6601\n",
            "Epoch 7/25\n",
            "15626/15626 - 48s - loss: 0.6256 - val_loss: 0.6479\n",
            "Epoch 8/25\n",
            "15626/15626 - 49s - loss: 0.6109 - val_loss: 0.6417\n",
            "Epoch 9/25\n",
            "15626/15626 - 48s - loss: 0.6010 - val_loss: 0.6400\n",
            "Epoch 10/25\n",
            "15626/15626 - 48s - loss: 0.5929 - val_loss: 0.6387\n",
            "Epoch 11/25\n",
            "15626/15626 - 47s - loss: 0.5852 - val_loss: 0.6377\n",
            "Epoch 12/25\n",
            "15626/15626 - 47s - loss: 0.5777 - val_loss: 0.6307\n",
            "Epoch 13/25\n",
            "15626/15626 - 49s - loss: 0.5698 - val_loss: 0.6300\n",
            "Epoch 14/25\n",
            "15626/15626 - 47s - loss: 0.5624 - val_loss: 0.6250\n",
            "Epoch 15/25\n",
            "15626/15626 - 47s - loss: 0.5564 - val_loss: 0.6229\n",
            "Epoch 16/25\n",
            "15626/15626 - 47s - loss: 0.5516 - val_loss: 0.6242\n",
            "Epoch 17/25\n",
            "15626/15626 - 47s - loss: 0.5476 - val_loss: 0.6231\n",
            "Epoch 18/25\n",
            "15626/15626 - 47s - loss: 0.5442 - val_loss: 0.6231\n",
            "Epoch 19/25\n",
            "15626/15626 - 48s - loss: 0.5413 - val_loss: 0.6248\n",
            "Epoch 20/25\n",
            "15626/15626 - 47s - loss: 0.5389 - val_loss: 0.6213\n",
            "Epoch 21/25\n",
            "15626/15626 - 47s - loss: 0.5367 - val_loss: 0.6237\n",
            "Epoch 22/25\n",
            "15626/15626 - 47s - loss: 0.5347 - val_loss: 0.6231\n",
            "Epoch 23/25\n",
            "15626/15626 - 47s - loss: 0.5329 - val_loss: 0.6223\n",
            "Epoch 24/25\n",
            "15626/15626 - 47s - loss: 0.5314 - val_loss: 0.6234\n",
            "Epoch 25/25\n",
            "15626/15626 - 47s - loss: 0.5299 - val_loss: 0.6233\n"
          ],
          "name": "stdout"
        }
      ]
    },
    {
      "cell_type": "code",
      "metadata": {
        "id": "YREJpKXF7uYi",
        "colab_type": "code",
        "colab": {
          "base_uri": "https://localhost:8080/",
          "height": 285
        },
        "outputId": "1ae02c8e-f8b5-40f9-ecdc-c29be8e67478"
      },
      "source": [
        "plt.plot(r.history['loss'],label='loss')\n",
        "plt.plot(r.history['val_loss'], label='val_loss')\n",
        "plt.legend()"
      ],
      "execution_count": 22,
      "outputs": [
        {
          "output_type": "execute_result",
          "data": {
            "text/plain": [
              "<matplotlib.legend.Legend at 0x7f2b000cf470>"
            ]
          },
          "metadata": {
            "tags": []
          },
          "execution_count": 22
        },
        {
          "output_type": "display_data",
          "data": {
            "image/png": "[encoded data removed]",
            "text/plain": [
              "<Figure size 432x288 with 1 Axes>"
            ]
          },
          "metadata": {
            "tags": []
          }
        }
      ]
    },
    {
      "cell_type": "code",
      "metadata": {
        "id": "kqKjvd8C7uY_",
        "colab_type": "code",
        "colab": {
          "base_uri": "https://localhost:8080/",
          "height": 35
        },
        "outputId": "cd13c86d-74a8-431e-c7fe-2dc99d72427c"
      },
      "source": [
        "# on par with other approaches?\n",
        "#https://datascience.stackexchange.com/questions/29740/benchmark-result-for-movielens-dataset\n",
        "np.sqrt(0.6232)"
      ],
      "execution_count": 25,
      "outputs": [
        {
          "output_type": "execute_result",
          "data": {
            "text/plain": [
              "0.789430174239622"
            ]
          },
          "metadata": {
            "tags": []
          },
          "execution_count": 25
        }
      ]
    },
    {
      "cell_type": "code",
      "metadata": {
        "id": "ENAkEABJDKfC",
        "colab_type": "code",
        "colab": {}
      },
      "source": [
        ""
      ],
      "execution_count": null,
      "outputs": []
    }
  ]
}