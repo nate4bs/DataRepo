{
 "cells": [
  {
   "cell_type": "code",
   "execution_count": 17,
   "metadata": {},
   "outputs": [],
   "source": [
    "import numpy as np\n",
    "import re\n",
    "import pandas as pd\n",
    "import tensorflow as tf\n",
    "import matplotlib.pyplot as plt\n",
    "import seaborn as sns\n",
    "sns.set()"
   ]
  },
  {
   "cell_type": "code",
   "execution_count": 18,
   "metadata": {},
   "outputs": [],
   "source": [
    "non_decimal = re.compile(r'[^\\d]+')\n",
    "X=[]\n",
    "Y=[]"
   ]
  },
  {
   "cell_type": "code",
   "execution_count": 19,
   "metadata": {},
   "outputs": [
    {
     "data": {
      "image/png": "[encoded data removed]",
      "text/plain": [
       "<Figure size 432x288 with 1 Axes>"
      ]
     },
     "metadata": {},
     "output_type": "display_data"
    }
   ],
   "source": [
    "for line in open('moore.csv'):\n",
    "    r = line.split('\\t')\n",
    "\n",
    "    x = int(non_decimal.sub('', r[2].split('[')[0]))\n",
    "    y = int(non_decimal.sub('', r[1].split('[')[0]))\n",
    "    X.append(x)\n",
    "    Y.append(y)\n",
    "\n",
    "\n",
    "X = np.array(X)\n",
    "Y = np.array(Y)\n",
    "\n",
    "plt.scatter(X, Y)\n",
    "plt.show()"
   ]
  },
  {
   "cell_type": "code",
   "execution_count": null,
   "metadata": {},
   "outputs": [],
   "source": []
  },
  {
   "cell_type": "code",
   "execution_count": 20,
   "metadata": {},
   "outputs": [],
   "source": [
    "Y=np.log(Y)"
   ]
  },
  {
   "cell_type": "code",
   "execution_count": 21,
   "metadata": {},
   "outputs": [
    {
     "data": {
      "text/plain": [
       "<matplotlib.collections.PathCollection at 0x14a10e901c8>"
      ]
     },
     "execution_count": 21,
     "metadata": {},
     "output_type": "execute_result"
    },
    {
     "data": {
      "image/png": "[encoded data removed]",
      "text/plain": [
       "<Figure size 432x288 with 1 Axes>"
      ]
     },
     "metadata": {},
     "output_type": "display_data"
    }
   ],
   "source": [
    "plt.scatter(X,Y)"
   ]
  },
  {
   "cell_type": "code",
   "execution_count": 22,
   "metadata": {},
   "outputs": [],
   "source": [
    "X = X-X.mean()"
   ]
  },
  {
   "cell_type": "code",
   "execution_count": 23,
   "metadata": {},
   "outputs": [
    {
     "name": "stdout",
     "output_type": "stream",
     "text": [
      "Epoch 1/200\n",
      "4/4 [==============================] - 0s 3ms/step - loss: 291.8141 - lr: 0.0010\n",
      "Epoch 2/200\n",
      "4/4 [==============================] - 0s 9ms/step - loss: 281.5262 - lr: 0.0010\n",
      "Epoch 3/200\n",
      "4/4 [==============================] - 0s 7ms/step - loss: 280.0040 - lr: 0.0010\n",
      "Epoch 4/200\n",
      "4/4 [==============================] - 0s 8ms/step - loss: 221.6075 - lr: 0.0010\n",
      "Epoch 5/200\n",
      "4/4 [==============================] - 0s 4ms/step - loss: 235.2027 - lr: 0.0010\n",
      "Epoch 6/200\n",
      "4/4 [==============================] - 0s 6ms/step - loss: 201.8548 - lr: 0.0010\n",
      "Epoch 7/200\n",
      "4/4 [==============================] - 0s 4ms/step - loss: 152.4161 - lr: 0.0010\n",
      "Epoch 8/200\n",
      "4/4 [==============================] - 0s 4ms/step - loss: 133.0784 - lr: 0.0010\n",
      "Epoch 9/200\n",
      "4/4 [==============================] - 0s 4ms/step - loss: 112.6251 - lr: 0.0010\n",
      "Epoch 10/200\n",
      "4/4 [==============================] - 0s 4ms/step - loss: 102.4812 - lr: 0.0010\n",
      "Epoch 11/200\n",
      "4/4 [==============================] - 0s 6ms/step - loss: 104.6753 - lr: 0.0010\n",
      "Epoch 12/200\n",
      "4/4 [==============================] - 0s 5ms/step - loss: 55.1455 - lr: 0.0010\n",
      "Epoch 13/200\n",
      "4/4 [==============================] - 0s 4ms/step - loss: 76.6799 - lr: 0.0010\n",
      "Epoch 14/200\n",
      "4/4 [==============================] - 0s 8ms/step - loss: 66.6925 - lr: 0.0010\n",
      "Epoch 15/200\n",
      "4/4 [==============================] - 0s 4ms/step - loss: 37.0996 - lr: 0.0010\n",
      "Epoch 16/200\n",
      "4/4 [==============================] - 0s 7ms/step - loss: 40.2570 - lr: 0.0010\n",
      "Epoch 17/200\n",
      "4/4 [==============================] - 0s 5ms/step - loss: 29.3612 - lr: 0.0010\n",
      "Epoch 18/200\n",
      "4/4 [==============================] - 0s 5ms/step - loss: 22.6414 - lr: 0.0010\n",
      "Epoch 19/200\n",
      "4/4 [==============================] - 0s 7ms/step - loss: 19.3053 - lr: 0.0010\n",
      "Epoch 20/200\n",
      "4/4 [==============================] - 0s 4ms/step - loss: 18.1846 - lr: 0.0010\n",
      "Epoch 21/200\n",
      "4/4 [==============================] - 0s 4ms/step - loss: 9.9235 - lr: 0.0010\n",
      "Epoch 22/200\n",
      "4/4 [==============================] - 0s 5ms/step - loss: 8.1889 - lr: 0.0010\n",
      "Epoch 23/200\n",
      "4/4 [==============================] - 0s 7ms/step - loss: 7.2187 - lr: 0.0010\n",
      "Epoch 24/200\n",
      "4/4 [==============================] - 0s 8ms/step - loss: 5.5272 - lr: 0.0010\n",
      "Epoch 25/200\n",
      "4/4 [==============================] - 0s 4ms/step - loss: 4.5416 - lr: 0.0010\n",
      "Epoch 26/200\n",
      "4/4 [==============================] - 0s 4ms/step - loss: 3.8431 - lr: 0.0010\n",
      "Epoch 27/200\n",
      "4/4 [==============================] - 0s 5ms/step - loss: 3.5417 - lr: 0.0010\n",
      "Epoch 28/200\n",
      "4/4 [==============================] - 0s 6ms/step - loss: 3.2548 - lr: 0.0010\n",
      "Epoch 29/200\n",
      "4/4 [==============================] - 0s 7ms/step - loss: 2.5875 - lr: 0.0010\n",
      "Epoch 30/200\n",
      "4/4 [==============================] - 0s 8ms/step - loss: 2.4377 - lr: 0.0010\n",
      "Epoch 31/200\n",
      "4/4 [==============================] - 0s 5ms/step - loss: 2.0462 - lr: 0.0010\n",
      "Epoch 32/200\n",
      "4/4 [==============================] - 0s 6ms/step - loss: 1.8421 - lr: 0.0010\n",
      "Epoch 33/200\n",
      "4/4 [==============================] - 0s 6ms/step - loss: 1.7537 - lr: 0.0010\n",
      "Epoch 34/200\n",
      "4/4 [==============================] - 0s 4ms/step - loss: 1.8066 - lr: 0.0010\n",
      "Epoch 35/200\n",
      "4/4 [==============================] - 0s 5ms/step - loss: 1.5174 - lr: 0.0010\n",
      "Epoch 36/200\n",
      "4/4 [==============================] - 0s 6ms/step - loss: 1.4591 - lr: 0.0010\n",
      "Epoch 37/200\n",
      "4/4 [==============================] - 0s 4ms/step - loss: 1.3539 - lr: 0.0010\n",
      "Epoch 38/200\n",
      "4/4 [==============================] - ETA: 0s - loss: 1.303 - 0s 5ms/step - loss: 1.5335 - lr: 0.0010\n",
      "Epoch 39/200\n",
      "4/4 [==============================] - 0s 6ms/step - loss: 1.2911 - lr: 0.0010\n",
      "Epoch 40/200\n",
      "4/4 [==============================] - 0s 7ms/step - loss: 1.3236 - lr: 0.0010\n",
      "Epoch 41/200\n",
      "4/4 [==============================] - 0s 6ms/step - loss: 1.3073 - lr: 0.0010\n",
      "Epoch 42/200\n",
      "4/4 [==============================] - 0s 5ms/step - loss: 1.1949 - lr: 0.0010\n",
      "Epoch 43/200\n",
      "4/4 [==============================] - 0s 6ms/step - loss: 1.2540 - lr: 0.0010\n",
      "Epoch 44/200\n",
      "4/4 [==============================] - 0s 5ms/step - loss: 1.2491 - lr: 0.0010\n",
      "Epoch 45/200\n",
      "4/4 [==============================] - 0s 7ms/step - loss: 1.0945 - lr: 0.0010\n",
      "Epoch 46/200\n",
      "4/4 [==============================] - 0s 5ms/step - loss: 1.2702 - lr: 0.0010\n",
      "Epoch 47/200\n",
      "4/4 [==============================] - 0s 4ms/step - loss: 1.2856 - lr: 0.0010\n",
      "Epoch 48/200\n",
      "4/4 [==============================] - 0s 5ms/step - loss: 1.2486 - lr: 0.0010\n",
      "Epoch 49/200\n",
      "4/4 [==============================] - 0s 5ms/step - loss: 1.0998 - lr: 0.0010\n",
      "Epoch 50/200\n",
      "4/4 [==============================] - 0s 5ms/step - loss: 1.1938 - lr: 0.0010\n",
      "Epoch 51/200\n",
      "4/4 [==============================] - 0s 4ms/step - loss: 1.5815 - lr: 1.0000e-04\n",
      "Epoch 52/200\n",
      "4/4 [==============================] - 0s 4ms/step - loss: 3.1856 - lr: 1.0000e-04\n",
      "Epoch 53/200\n",
      "4/4 [==============================] - 0s 4ms/step - loss: 2.7456 - lr: 1.0000e-04\n",
      "Epoch 54/200\n",
      "4/4 [==============================] - 0s 4ms/step - loss: 1.3449 - lr: 1.0000e-04\n",
      "Epoch 55/200\n",
      "4/4 [==============================] - 0s 10ms/step - loss: 1.1055 - lr: 1.0000e-04\n",
      "Epoch 56/200\n",
      "4/4 [==============================] - 0s 5ms/step - loss: 1.4629 - lr: 1.0000e-04\n",
      "Epoch 57/200\n",
      "4/4 [==============================] - 0s 5ms/step - loss: 1.4365 - lr: 1.0000e-04\n",
      "Epoch 58/200\n",
      "4/4 [==============================] - 0s 4ms/step - loss: 1.1409 - lr: 1.0000e-04\n",
      "Epoch 59/200\n",
      "4/4 [==============================] - 0s 4ms/step - loss: 1.0595 - lr: 1.0000e-04\n",
      "Epoch 60/200\n",
      "4/4 [==============================] - 0s 5ms/step - loss: 1.1294 - lr: 1.0000e-04\n",
      "Epoch 61/200\n",
      "4/4 [==============================] - 0s 3ms/step - loss: 1.1114 - lr: 1.0000e-04\n",
      "Epoch 62/200\n",
      "4/4 [==============================] - 0s 6ms/step - loss: 1.0496 - lr: 1.0000e-04\n",
      "Epoch 63/200\n",
      "4/4 [==============================] - 0s 6ms/step - loss: 1.0565 - lr: 1.0000e-04\n",
      "Epoch 64/200\n",
      "4/4 [==============================] - 0s 5ms/step - loss: 1.0884 - lr: 1.0000e-04\n",
      "Epoch 65/200\n",
      "4/4 [==============================] - 0s 4ms/step - loss: 1.0790 - lr: 1.0000e-04\n",
      "Epoch 66/200\n",
      "4/4 [==============================] - 0s 4ms/step - loss: 1.0563 - lr: 1.0000e-04\n",
      "Epoch 67/200\n",
      "4/4 [==============================] - 0s 5ms/step - loss: 1.0525 - lr: 1.0000e-04\n",
      "Epoch 68/200\n",
      "4/4 [==============================] - 0s 4ms/step - loss: 1.0547 - lr: 1.0000e-04\n",
      "Epoch 69/200\n",
      "4/4 [==============================] - 0s 8ms/step - loss: 1.0524 - lr: 1.0000e-04\n",
      "Epoch 70/200\n",
      "4/4 [==============================] - 0s 5ms/step - loss: 1.0524 - lr: 1.0000e-04\n",
      "Epoch 71/200\n",
      "4/4 [==============================] - 0s 4ms/step - loss: 1.0547 - lr: 1.0000e-04\n",
      "Epoch 72/200\n",
      "4/4 [==============================] - 0s 6ms/step - loss: 1.0514 - lr: 1.0000e-04\n",
      "Epoch 73/200\n",
      "4/4 [==============================] - 0s 4ms/step - loss: 1.0519 - lr: 1.0000e-04\n",
      "Epoch 74/200\n",
      "4/4 [==============================] - 0s 5ms/step - loss: 1.0515 - lr: 1.0000e-04\n",
      "Epoch 75/200\n",
      "4/4 [==============================] - 0s 4ms/step - loss: 1.0523 - lr: 1.0000e-04\n",
      "Epoch 76/200\n",
      "4/4 [==============================] - 0s 5ms/step - loss: 1.0525 - lr: 1.0000e-04\n",
      "Epoch 77/200\n",
      "4/4 [==============================] - 0s 7ms/step - loss: 1.0576 - lr: 1.0000e-04\n",
      "Epoch 78/200\n",
      "4/4 [==============================] - 0s 4ms/step - loss: 1.0517 - lr: 1.0000e-04\n",
      "Epoch 79/200\n",
      "4/4 [==============================] - 0s 4ms/step - loss: 1.0518 - lr: 1.0000e-04\n",
      "Epoch 80/200\n",
      "4/4 [==============================] - 0s 5ms/step - loss: 1.0543 - lr: 1.0000e-04\n",
      "Epoch 81/200\n",
      "4/4 [==============================] - 0s 7ms/step - loss: 1.0527 - lr: 1.0000e-04\n",
      "Epoch 82/200\n",
      "4/4 [==============================] - 0s 5ms/step - loss: 1.0549 - lr: 1.0000e-04\n",
      "Epoch 83/200\n",
      "4/4 [==============================] - 0s 5ms/step - loss: 1.0557 - lr: 1.0000e-04\n",
      "Epoch 84/200\n",
      "4/4 [==============================] - 0s 8ms/step - loss: 1.0527 - lr: 1.0000e-04\n",
      "Epoch 85/200\n",
      "4/4 [==============================] - 0s 4ms/step - loss: 1.0525 - lr: 1.0000e-04\n",
      "Epoch 86/200\n",
      "4/4 [==============================] - 0s 4ms/step - loss: 1.0558 - lr: 1.0000e-04\n",
      "Epoch 87/200\n",
      "4/4 [==============================] - 0s 5ms/step - loss: 1.0556 - lr: 1.0000e-04\n"
     ]
    },
    {
     "name": "stdout",
     "output_type": "stream",
     "text": [
      "Epoch 88/200\n",
      "4/4 [==============================] - 0s 4ms/step - loss: 1.0524 - lr: 1.0000e-04\n",
      "Epoch 89/200\n",
      "4/4 [==============================] - 0s 4ms/step - loss: 1.0504 - lr: 1.0000e-04\n",
      "Epoch 90/200\n",
      "4/4 [==============================] - 0s 4ms/step - loss: 1.0515 - lr: 1.0000e-04\n",
      "Epoch 91/200\n",
      "4/4 [==============================] - 0s 5ms/step - loss: 1.0520 - lr: 1.0000e-04\n",
      "Epoch 92/200\n",
      "4/4 [==============================] - 0s 10ms/step - loss: 1.0490 - lr: 1.0000e-04\n",
      "Epoch 93/200\n",
      "4/4 [==============================] - 0s 6ms/step - loss: 1.0515 - lr: 1.0000e-04\n",
      "Epoch 94/200\n",
      "4/4 [==============================] - ETA: 0s - loss: 1.146 - 0s 4ms/step - loss: 1.0533 - lr: 1.0000e-04\n",
      "Epoch 95/200\n",
      "4/4 [==============================] - 0s 5ms/step - loss: 1.0526 - lr: 1.0000e-04\n",
      "Epoch 96/200\n",
      "4/4 [==============================] - 0s 7ms/step - loss: 1.0514 - lr: 1.0000e-04\n",
      "Epoch 97/200\n",
      "4/4 [==============================] - 0s 6ms/step - loss: 1.0504 - lr: 1.0000e-04\n",
      "Epoch 98/200\n",
      "4/4 [==============================] - ETA: 0s - loss: 0.839 - 0s 4ms/step - loss: 1.0519 - lr: 1.0000e-04\n",
      "Epoch 99/200\n",
      "4/4 [==============================] - 0s 8ms/step - loss: 1.0514 - lr: 1.0000e-04\n",
      "Epoch 100/200\n",
      "4/4 [==============================] - 0s 4ms/step - loss: 1.0525 - lr: 1.0000e-04\n",
      "Epoch 101/200\n",
      "4/4 [==============================] - 0s 5ms/step - loss: 1.0556 - lr: 1.0000e-04\n",
      "Epoch 102/200\n",
      "4/4 [==============================] - 0s 4ms/step - loss: 1.0551 - lr: 1.0000e-04\n",
      "Epoch 103/200\n",
      "4/4 [==============================] - 0s 4ms/step - loss: 1.0497 - lr: 1.0000e-04\n",
      "Epoch 104/200\n",
      "4/4 [==============================] - 0s 4ms/step - loss: 1.0593 - lr: 1.0000e-04\n",
      "Epoch 105/200\n",
      "4/4 [==============================] - 0s 4ms/step - loss: 1.0675 - lr: 1.0000e-04\n",
      "Epoch 106/200\n",
      "4/4 [==============================] - 0s 4ms/step - loss: 1.0711 - lr: 1.0000e-04\n",
      "Epoch 107/200\n",
      "4/4 [==============================] - 0s 4ms/step - loss: 1.0656 - lr: 1.0000e-04\n",
      "Epoch 108/200\n",
      "4/4 [==============================] - 0s 6ms/step - loss: 1.0523 - lr: 1.0000e-04\n",
      "Epoch 109/200\n",
      "4/4 [==============================] - 0s 4ms/step - loss: 1.0472 - lr: 1.0000e-04\n",
      "Epoch 110/200\n",
      "4/4 [==============================] - 0s 4ms/step - loss: 1.0543 - lr: 1.0000e-04\n",
      "Epoch 111/200\n",
      "4/4 [==============================] - 0s 5ms/step - loss: 1.0669 - lr: 1.0000e-04\n",
      "Epoch 112/200\n",
      "4/4 [==============================] - 0s 6ms/step - loss: 1.0646 - lr: 1.0000e-04\n",
      "Epoch 113/200\n",
      "4/4 [==============================] - 0s 4ms/step - loss: 1.0513 - lr: 1.0000e-04\n",
      "Epoch 114/200\n",
      "4/4 [==============================] - 0s 3ms/step - loss: 1.0481 - lr: 1.0000e-04\n",
      "Epoch 115/200\n",
      "4/4 [==============================] - 0s 5ms/step - loss: 1.0607 - lr: 1.0000e-04\n",
      "Epoch 116/200\n",
      "4/4 [==============================] - 0s 5ms/step - loss: 1.0609 - lr: 1.0000e-04\n",
      "Epoch 117/200\n",
      "4/4 [==============================] - 0s 4ms/step - loss: 1.0551 - lr: 1.0000e-04\n",
      "Epoch 118/200\n",
      "4/4 [==============================] - 0s 4ms/step - loss: 1.0517 - lr: 1.0000e-04\n",
      "Epoch 119/200\n",
      "4/4 [==============================] - 0s 5ms/step - loss: 1.0508 - lr: 1.0000e-04\n",
      "Epoch 120/200\n",
      "4/4 [==============================] - 0s 6ms/step - loss: 1.0571 - lr: 1.0000e-04\n",
      "Epoch 121/200\n",
      "4/4 [==============================] - 0s 5ms/step - loss: 1.0541 - lr: 1.0000e-04\n",
      "Epoch 122/200\n",
      "4/4 [==============================] - 0s 5ms/step - loss: 1.0497 - lr: 1.0000e-04\n",
      "Epoch 123/200\n",
      "4/4 [==============================] - ETA: 0s - loss: 1.442 - 0s 5ms/step - loss: 1.0504 - lr: 1.0000e-04\n",
      "Epoch 124/200\n",
      "4/4 [==============================] - 0s 6ms/step - loss: 1.0613 - lr: 1.0000e-04\n",
      "Epoch 125/200\n",
      "4/4 [==============================] - 0s 4ms/step - loss: 1.0533 - lr: 1.0000e-04\n",
      "Epoch 126/200\n",
      "4/4 [==============================] - 0s 5ms/step - loss: 1.0491 - lr: 1.0000e-04\n",
      "Epoch 127/200\n",
      "4/4 [==============================] - ETA: 0s - loss: 0.718 - 0s 5ms/step - loss: 1.0628 - lr: 1.0000e-04\n",
      "Epoch 128/200\n",
      "4/4 [==============================] - 0s 5ms/step - loss: 1.0492 - lr: 1.0000e-04\n",
      "Epoch 129/200\n",
      "4/4 [==============================] - 0s 7ms/step - loss: 1.0500 - lr: 1.0000e-04\n",
      "Epoch 130/200\n",
      "4/4 [==============================] - 0s 5ms/step - loss: 1.0534 - lr: 1.0000e-04\n",
      "Epoch 131/200\n",
      "4/4 [==============================] - 0s 7ms/step - loss: 1.0657 - lr: 1.0000e-04\n",
      "Epoch 132/200\n",
      "4/4 [==============================] - 0s 4ms/step - loss: 1.0579 - lr: 1.0000e-04\n",
      "Epoch 133/200\n",
      "4/4 [==============================] - 0s 4ms/step - loss: 1.0534 - lr: 1.0000e-04\n",
      "Epoch 134/200\n",
      "4/4 [==============================] - 0s 5ms/step - loss: 1.0566 - lr: 1.0000e-04\n",
      "Epoch 135/200\n",
      "4/4 [==============================] - 0s 4ms/step - loss: 1.0551 - lr: 1.0000e-04\n",
      "Epoch 136/200\n",
      "4/4 [==============================] - ETA: 0s - loss: 0.565 - 0s 4ms/step - loss: 1.0482 - lr: 1.0000e-04\n",
      "Epoch 137/200\n",
      "4/4 [==============================] - 0s 5ms/step - loss: 1.0525 - lr: 1.0000e-04\n",
      "Epoch 138/200\n",
      "4/4 [==============================] - 0s 4ms/step - loss: 1.0539 - lr: 1.0000e-04\n",
      "Epoch 139/200\n",
      "4/4 [==============================] - 0s 4ms/step - loss: 1.0470 - lr: 1.0000e-04\n",
      "Epoch 140/200\n",
      "4/4 [==============================] - 0s 4ms/step - loss: 1.0519 - lr: 1.0000e-04\n",
      "Epoch 141/200\n",
      "4/4 [==============================] - 0s 9ms/step - loss: 1.0570 - lr: 1.0000e-04\n",
      "Epoch 142/200\n",
      "4/4 [==============================] - 0s 3ms/step - loss: 1.0528 - lr: 1.0000e-04\n",
      "Epoch 143/200\n",
      "4/4 [==============================] - 0s 5ms/step - loss: 1.0502 - lr: 1.0000e-04\n",
      "Epoch 144/200\n",
      "4/4 [==============================] - 0s 5ms/step - loss: 1.0490 - lr: 1.0000e-04\n",
      "Epoch 145/200\n",
      "4/4 [==============================] - 0s 4ms/step - loss: 1.0529 - lr: 1.0000e-04\n",
      "Epoch 146/200\n",
      "4/4 [==============================] - 0s 4ms/step - loss: 1.0493 - lr: 1.0000e-04\n",
      "Epoch 147/200\n",
      "4/4 [==============================] - 0s 4ms/step - loss: 1.0495 - lr: 1.0000e-04\n",
      "Epoch 148/200\n",
      "4/4 [==============================] - 0s 6ms/step - loss: 1.0490 - lr: 1.0000e-04\n",
      "Epoch 149/200\n",
      "4/4 [==============================] - 0s 4ms/step - loss: 1.0502 - lr: 1.0000e-04\n",
      "Epoch 150/200\n",
      "4/4 [==============================] - 0s 5ms/step - loss: 1.0560 - lr: 1.0000e-04\n",
      "Epoch 151/200\n",
      "4/4 [==============================] - 0s 5ms/step - loss: 1.0605 - lr: 1.0000e-04\n",
      "Epoch 152/200\n",
      "4/4 [==============================] - 0s 4ms/step - loss: 1.0629 - lr: 1.0000e-04\n",
      "Epoch 153/200\n",
      "4/4 [==============================] - 0s 4ms/step - loss: 1.0506 - lr: 1.0000e-04\n",
      "Epoch 154/200\n",
      "4/4 [==============================] - 0s 10ms/step - loss: 1.0496 - lr: 1.0000e-04\n",
      "Epoch 155/200\n",
      "4/4 [==============================] - 0s 4ms/step - loss: 1.0511 - lr: 1.0000e-04\n",
      "Epoch 156/200\n",
      "4/4 [==============================] - 0s 5ms/step - loss: 1.0520 - lr: 1.0000e-04\n",
      "Epoch 157/200\n",
      "4/4 [==============================] - 0s 5ms/step - loss: 1.0483 - lr: 1.0000e-04\n",
      "Epoch 158/200\n",
      "4/4 [==============================] - 0s 5ms/step - loss: 1.0482 - lr: 1.0000e-04\n",
      "Epoch 159/200\n",
      "4/4 [==============================] - 0s 6ms/step - loss: 1.0521 - lr: 1.0000e-04\n",
      "Epoch 160/200\n",
      "4/4 [==============================] - 0s 4ms/step - loss: 1.0502 - lr: 1.0000e-04\n",
      "Epoch 161/200\n",
      "4/4 [==============================] - 0s 4ms/step - loss: 1.0490 - lr: 1.0000e-04\n",
      "Epoch 162/200\n",
      "4/4 [==============================] - 0s 4ms/step - loss: 1.0597 - lr: 1.0000e-04\n",
      "Epoch 163/200\n",
      "4/4 [==============================] - 0s 6ms/step - loss: 1.0650 - lr: 1.0000e-04\n",
      "Epoch 164/200\n",
      "4/4 [==============================] - 0s 5ms/step - loss: 1.0543 - lr: 1.0000e-04\n",
      "Epoch 165/200\n",
      "4/4 [==============================] - 0s 5ms/step - loss: 1.0497 - lr: 1.0000e-04\n",
      "Epoch 166/200\n",
      "4/4 [==============================] - 0s 4ms/step - loss: 1.0509 - lr: 1.0000e-04\n",
      "Epoch 167/200\n",
      "4/4 [==============================] - 0s 8ms/step - loss: 1.0568 - lr: 1.0000e-04\n",
      "Epoch 168/200\n",
      "4/4 [==============================] - 0s 5ms/step - loss: 1.0538 - lr: 1.0000e-04\n",
      "Epoch 169/200\n",
      "4/4 [==============================] - 0s 5ms/step - loss: 1.0482 - lr: 1.0000e-04\n",
      "Epoch 170/200\n",
      "4/4 [==============================] - 0s 5ms/step - loss: 1.0539 - lr: 1.0000e-04\n",
      "Epoch 171/200\n"
     ]
    },
    {
     "name": "stdout",
     "output_type": "stream",
     "text": [
      "4/4 [==============================] - 0s 4ms/step - loss: 1.0575 - lr: 1.0000e-04\n",
      "Epoch 172/200\n",
      "4/4 [==============================] - 0s 5ms/step - loss: 1.0516 - lr: 1.0000e-04\n",
      "Epoch 173/200\n",
      "4/4 [==============================] - 0s 7ms/step - loss: 1.0484 - lr: 1.0000e-04\n",
      "Epoch 174/200\n",
      "4/4 [==============================] - 0s 4ms/step - loss: 1.0525 - lr: 1.0000e-04\n",
      "Epoch 175/200\n",
      "4/4 [==============================] - 0s 6ms/step - loss: 1.0517 - lr: 1.0000e-04\n",
      "Epoch 176/200\n",
      "4/4 [==============================] - 0s 4ms/step - loss: 1.0479 - lr: 1.0000e-04\n",
      "Epoch 177/200\n",
      "4/4 [==============================] - 0s 6ms/step - loss: 1.0475 - lr: 1.0000e-04\n",
      "Epoch 178/200\n",
      "4/4 [==============================] - 0s 4ms/step - loss: 1.0521 - lr: 1.0000e-04\n",
      "Epoch 179/200\n",
      "4/4 [==============================] - 0s 5ms/step - loss: 1.0553 - lr: 1.0000e-04\n",
      "Epoch 180/200\n",
      "4/4 [==============================] - 0s 6ms/step - loss: 1.0533 - lr: 1.0000e-04\n",
      "Epoch 181/200\n",
      "4/4 [==============================] - 0s 6ms/step - loss: 1.0497 - lr: 1.0000e-04\n",
      "Epoch 182/200\n",
      "4/4 [==============================] - 0s 7ms/step - loss: 1.0506 - lr: 1.0000e-04\n",
      "Epoch 183/200\n",
      "4/4 [==============================] - 0s 5ms/step - loss: 1.0517 - lr: 1.0000e-04\n",
      "Epoch 184/200\n",
      "4/4 [==============================] - 0s 4ms/step - loss: 1.0505 - lr: 1.0000e-04\n",
      "Epoch 185/200\n",
      "4/4 [==============================] - 0s 5ms/step - loss: 1.0489 - lr: 1.0000e-04\n",
      "Epoch 186/200\n",
      "4/4 [==============================] - 0s 5ms/step - loss: 1.0486 - lr: 1.0000e-04\n",
      "Epoch 187/200\n",
      "4/4 [==============================] - 0s 6ms/step - loss: 1.0505 - lr: 1.0000e-04\n",
      "Epoch 188/200\n",
      "4/4 [==============================] - 0s 3ms/step - loss: 1.0493 - lr: 1.0000e-04\n",
      "Epoch 189/200\n",
      "4/4 [==============================] - 0s 6ms/step - loss: 1.0456 - lr: 1.0000e-04\n",
      "Epoch 190/200\n",
      "4/4 [==============================] - 0s 5ms/step - loss: 1.0523 - lr: 1.0000e-04\n",
      "Epoch 191/200\n",
      "4/4 [==============================] - 0s 8ms/step - loss: 1.0597 - lr: 1.0000e-04\n",
      "Epoch 192/200\n",
      "4/4 [==============================] - 0s 8ms/step - loss: 1.0630 - lr: 1.0000e-04\n",
      "Epoch 193/200\n",
      "4/4 [==============================] - 0s 5ms/step - loss: 1.0478 - lr: 1.0000e-04\n",
      "Epoch 194/200\n",
      "4/4 [==============================] - 0s 4ms/step - loss: 1.0504 - lr: 1.0000e-04\n",
      "Epoch 195/200\n",
      "4/4 [==============================] - 0s 6ms/step - loss: 1.0508 - lr: 1.0000e-04\n",
      "Epoch 196/200\n",
      "4/4 [==============================] - 0s 4ms/step - loss: 1.0510 - lr: 1.0000e-04\n",
      "Epoch 197/200\n",
      "4/4 [==============================] - 0s 5ms/step - loss: 1.0483 - lr: 1.0000e-04\n",
      "Epoch 198/200\n",
      "4/4 [==============================] - 0s 3ms/step - loss: 1.0512 - lr: 1.0000e-04\n",
      "Epoch 199/200\n",
      "4/4 [==============================] - 0s 6ms/step - loss: 1.0485 - lr: 1.0000e-04\n",
      "Epoch 200/200\n",
      "4/4 [==============================] - 0s 7ms/step - loss: 1.0479 - lr: 1.0000e-04\n"
     ]
    }
   ],
   "source": [
    "model = tf.keras.models.Sequential([\n",
    "    tf.keras.layers.Input(shape=(1,)),\n",
    "    tf.keras.layers.Dense(1)\n",
    "])\n",
    "\n",
    "model.compile(optimizer=tf.keras.optimizers.SGD(0.001,0.9),loss='mse')\n",
    "\n",
    "def schedule(epoch,lr):\n",
    "    if epoch >= 50:\n",
    "        return 0.0001\n",
    "    return 0.001\n",
    "\n",
    "scheduler = tf.keras.callbacks.LearningRateScheduler(schedule)\n",
    "\n",
    "r = model.fit(X,Y,epochs =200,callbacks =scheduler)"
   ]
  },
  {
   "cell_type": "code",
   "execution_count": 24,
   "metadata": {},
   "outputs": [
    {
     "data": {
      "text/plain": [
       "[<matplotlib.lines.Line2D at 0x14a11caa7c8>]"
      ]
     },
     "execution_count": 24,
     "metadata": {},
     "output_type": "execute_result"
    },
    {
     "data": {
      "image/png": "[encoded data removed]",
      "text/plain": [
       "<Figure size 432x288 with 1 Axes>"
      ]
     },
     "metadata": {},
     "output_type": "display_data"
    }
   ],
   "source": [
    "plt.plot(r.history['loss'], label='loss')"
   ]
  },
  {
   "cell_type": "code",
   "execution_count": 25,
   "metadata": {},
   "outputs": [
    {
     "name": "stdout",
     "output_type": "stream",
     "text": [
      "[<tensorflow.python.keras.layers.core.Dense object at 0x0000014A117D6DC8>]\n",
      "[array([[0.35283226]], dtype=float32), array([16.941774], dtype=float32)]\n"
     ]
    }
   ],
   "source": [
    "print(model.layers)\n",
    "print(model.layers[0].get_weights())"
   ]
  },
  {
   "cell_type": "code",
   "execution_count": 26,
   "metadata": {},
   "outputs": [],
   "source": [
    "a =model.layers[0].get_weights()[0][0,0]"
   ]
  },
  {
   "cell_type": "code",
   "execution_count": 27,
   "metadata": {},
   "outputs": [
    {
     "data": {
      "text/plain": [
       "0.35283226"
      ]
     },
     "execution_count": 27,
     "metadata": {},
     "output_type": "execute_result"
    }
   ],
   "source": [
    "a"
   ]
  },
  {
   "cell_type": "code",
   "execution_count": 28,
   "metadata": {},
   "outputs": [
    {
     "name": "stdout",
     "output_type": "stream",
     "text": [
      "Time to Double:  1.7349097060641505\n"
     ]
    }
   ],
   "source": [
    "print('Time to Double: ', np.log((2)/a))"
   ]
  },
  {
   "cell_type": "code",
   "execution_count": 29,
   "metadata": {},
   "outputs": [
    {
     "name": "stdout",
     "output_type": "stream",
     "text": [
      "0.3510435733642378 [16.96984693 16.96984696 16.96984703 16.96984703 16.96984703 16.96984703\n",
      " 16.96984706 16.96984709 16.96984709 16.96984715 16.96984715 16.96984718\n",
      " 16.96984718 16.96984724 16.96984727 16.96984727 16.96984731 16.96984734\n",
      " 16.96984737 16.96984737 16.96984737 16.9698474  16.96984743 16.96984746\n",
      " 16.96984746 16.96984749 16.96984749 16.96984755 16.96984755 16.96984762\n",
      " 16.96984765 16.96984768 16.96984768 16.96984771 16.96984774 16.96984774\n",
      " 16.96984777 16.9698478  16.9698478  16.9698478  16.9698478  16.9698478\n",
      " 16.96984783 16.96984783 16.96984787 16.9698479  16.9698479  16.96984793\n",
      " 16.96984793 16.96984793 16.96984796 16.96984796 16.96984799 16.96984799\n",
      " 16.96984802 16.96984802 16.96984802 16.96984802 16.96984802 16.96984805\n",
      " 16.96984805 16.96984805 16.96984805 16.96984805 16.96984808 16.96984808\n",
      " 16.96984808 16.96984808 16.96984808 16.96984811 16.96984814 16.96984814\n",
      " 16.96984814 16.96984814 16.96984814 16.96984814 16.96984818 16.96984818\n",
      " 16.96984818 16.96984821 16.96984821 16.96984821 16.96984821 16.96984821\n",
      " 16.96984821 16.96984821 16.96984824 16.96984824 16.96984824 16.96984824\n",
      " 16.96984827 16.96984827 16.96984827 16.96984827 16.96984827 16.96984827\n",
      " 16.9698483  16.9698483  16.9698483  16.9698483  16.9698483  16.96984833]\n",
      "Time to double:  1.974533172384118\n"
     ]
    }
   ],
   "source": [
    "X =np.array(X).flatten()\n",
    "Y= np.array(Y)\n",
    "denominator = X.dot(X)-X.mean() * X.sum()\n",
    "a= (X.dot(Y) -Y.mean() *X.sum())/denominator\n",
    "b= (Y.mean() * X.dot(X)-X.mean() * X.dot(y))/denominator\n",
    "print(a,b)\n",
    "print('Time to double: ',np.log(2)/a)"
   ]
  },
  {
   "cell_type": "code",
   "execution_count": 30,
   "metadata": {},
   "outputs": [
    {
     "data": {
      "text/plain": [
       "[<matplotlib.lines.Line2D at 0x14a12d69fc8>]"
      ]
     },
     "execution_count": 30,
     "metadata": {},
     "output_type": "execute_result"
    },
    {
     "data": {
      "image/png": "[encoded data removed]",
      "text/plain": [
       "<Figure size 432x288 with 1 Axes>"
      ]
     },
     "metadata": {},
     "output_type": "display_data"
    }
   ],
   "source": [
    "Yhat = model.predict(X).flatten()\n",
    "plt.scatter(X,Y)\n",
    "plt.plot(X,Yhat)"
   ]
  },
  {
   "cell_type": "code",
   "execution_count": 31,
   "metadata": {},
   "outputs": [
    {
     "data": {
      "text/plain": [
       "True"
      ]
     },
     "execution_count": 31,
     "metadata": {},
     "output_type": "execute_result"
    }
   ],
   "source": [
    "w,b = model.layers[0].get_weights()\n",
    "\n",
    "X = X.reshape(-1,1)\n",
    "\n",
    "Yhat2 = (X.dot(w)+b).flatten()\n",
    "\n",
    "np.allclose(Yhat,Yhat2)"
   ]
  },
  {
   "cell_type": "code",
   "execution_count": 33,
   "metadata": {},
   "outputs": [],
   "source": [
    "model.save('linearregression.h5')"
   ]
  },
  {
   "cell_type": "code",
   "execution_count": 34,
   "metadata": {},
   "outputs": [
    {
     "name": "stdout",
     "output_type": "stream",
     "text": [
      "[<tensorflow.python.keras.layers.core.Dense object at 0x0000014A12D11108>]\n",
      "4/4 [==============================] - 0s 5ms/step - loss: 1.0487\n"
     ]
    },
    {
     "data": {
      "text/plain": [
       "1.048729658126831"
      ]
     },
     "execution_count": 34,
     "metadata": {},
     "output_type": "execute_result"
    }
   ],
   "source": [
    "model = tf.keras.models.load_model('linearregression.h5')\n",
    "print(model.layers)\n",
    "model.evaluate(X,Y)"
   ]
  },
  {
   "cell_type": "code",
   "execution_count": null,
   "metadata": {},
   "outputs": [],
   "source": []
  }
 ],
 "metadata": {
  "kernelspec": {
   "display_name": "Python [conda env:py3-TF2.0]",
   "language": "python",
   "name": "conda-env-py3-TF2.0-py"
  },
  "language_info": {
   "codemirror_mode": {
    "name": "ipython",
    "version": 3
   },
   "file_extension": ".py",
   "mimetype": "text/x-python",
   "name": "python",
   "nbconvert_exporter": "python",
   "pygments_lexer": "ipython3",
   "version": "3.7.7"
  }
 },
 "nbformat": 4,
 "nbformat_minor": 4
}
