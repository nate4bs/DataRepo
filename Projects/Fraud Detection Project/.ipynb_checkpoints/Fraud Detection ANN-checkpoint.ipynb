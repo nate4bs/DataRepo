{
 "cells": [
  {
   "cell_type": "code",
   "execution_count": 28,
   "metadata": {},
   "outputs": [],
   "source": [
    "import numpy as np\n",
    "import pandas as pd\n",
    "import tensorflow as tf\n",
    "import matplotlib.pyplot as plt\n",
    "import seaborn as sns\n",
    "sns.set()\n",
    "from tensorflow.keras.layers import Input, Dense, Flatten, Dropout\n",
    "from tensorflow.keras.models import Model"
   ]
  },
  {
   "cell_type": "code",
   "execution_count": 29,
   "metadata": {},
   "outputs": [],
   "source": [
    "df = pd.read_csv('creditcard.csv')"
   ]
  },
  {
   "cell_type": "code",
   "execution_count": 30,
   "metadata": {},
   "outputs": [],
   "source": [
    "from sklearn.model_selection import train_test_split\n",
    "from sklearn.preprocessing import StandardScaler"
   ]
  },
  {
   "cell_type": "code",
   "execution_count": 31,
   "metadata": {},
   "outputs": [],
   "source": [
    "Y = df['Class'].values"
   ]
  },
  {
   "cell_type": "code",
   "execution_count": 32,
   "metadata": {},
   "outputs": [],
   "source": [
    "Scaled_Amount = df[['Amount']]\n",
    "scaler = StandardScaler().fit(Scaled_Amount.values)\n",
    "Scaled_Amount = scaler.transform(Scaled_Amount.values)\n",
    "df['Amount'] = Scaled_Amount"
   ]
  },
  {
   "cell_type": "code",
   "execution_count": 33,
   "metadata": {},
   "outputs": [],
   "source": [
    "X = df.drop(columns='Class')"
   ]
  },
  {
   "cell_type": "code",
   "execution_count": 34,
   "metadata": {},
   "outputs": [],
   "source": [
    "X_train, X_test, Ytrain, Ytest = train_test_split(X,Y,test_size=0.33)"
   ]
  },
  {
   "cell_type": "code",
   "execution_count": 35,
   "metadata": {},
   "outputs": [
    {
     "data": {
      "text/plain": [
       "(190820, 30)"
      ]
     },
     "execution_count": 35,
     "metadata": {},
     "output_type": "execute_result"
    }
   ],
   "source": [
    "X_train.shape"
   ]
  },
  {
   "cell_type": "code",
   "execution_count": 36,
   "metadata": {},
   "outputs": [],
   "source": [
    "i = Input(shape=X_train.shape[1])\n",
    "x = Dense(128, activation = 'relu')(i)\n",
    "x = Dropout(0.2)(x)\n",
    "x = Dense(1, activation = 'sigmoid')(x)\n",
    "model = Model(i,x)"
   ]
  },
  {
   "cell_type": "code",
   "execution_count": 37,
   "metadata": {},
   "outputs": [
    {
     "name": "stdout",
     "output_type": "stream",
     "text": [
      "Epoch 1/10\n",
      "5964/5964 [==============================] - 26s 4ms/step - loss: 7.2926 - accuracy: 0.9966 - val_loss: 0.1910 - val_accuracy: 0.9981\n",
      "Epoch 2/10\n",
      "5964/5964 [==============================] - 24s 4ms/step - loss: 0.1162 - accuracy: 0.9978 - val_loss: 0.0198 - val_accuracy: 0.9982\n",
      "Epoch 3/10\n",
      "5964/5964 [==============================] - 27s 4ms/step - loss: 0.0227 - accuracy: 0.9983 - val_loss: 0.0137 - val_accuracy: 0.9982\n",
      "Epoch 4/10\n",
      "5964/5964 [==============================] - 24s 4ms/step - loss: 0.0682 - accuracy: 0.9980 - val_loss: 0.0131 - val_accuracy: 0.9982\n",
      "Epoch 5/10\n",
      "5964/5964 [==============================] - 25s 4ms/step - loss: 0.0372 - accuracy: 0.9980 - val_loss: 0.0130 - val_accuracy: 0.9982\n",
      "Epoch 6/10\n",
      "5964/5964 [==============================] - 25s 4ms/step - loss: 0.0409 - accuracy: 0.9981 - val_loss: 0.0130 - val_accuracy: 0.9982\n",
      "Epoch 7/10\n",
      "5964/5964 [==============================] - 25s 4ms/step - loss: 0.0549 - accuracy: 0.9983 - val_loss: 0.0130 - val_accuracy: 0.9982\n",
      "Epoch 8/10\n",
      "5964/5964 [==============================] - 25s 4ms/step - loss: 0.0275 - accuracy: 0.9983 - val_loss: 0.0130 - val_accuracy: 0.9982\n",
      "Epoch 9/10\n",
      "5964/5964 [==============================] - 24s 4ms/step - loss: 0.0513 - accuracy: 0.9983 - val_loss: 0.0130 - val_accuracy: 0.9982\n",
      "Epoch 10/10\n",
      "5964/5964 [==============================] - 24s 4ms/step - loss: 0.0230 - accuracy: 0.9983 - val_loss: 0.0130 - val_accuracy: 0.9982\n"
     ]
    }
   ],
   "source": [
    "model.compile(\n",
    "    loss = 'binary_crossentropy',\n",
    "    optimizer= 'adam',\n",
    "    metrics = ['accuracy']\n",
    ")\n",
    "r = model.fit(\n",
    "    X_train, Ytrain,\n",
    "    epochs=10,\n",
    "    validation_data = (X_test, Ytest)\n",
    ")"
   ]
  },
  {
   "cell_type": "code",
   "execution_count": 38,
   "metadata": {},
   "outputs": [
    {
     "data": {
      "text/plain": [
       "<matplotlib.legend.Legend at 0x1f75703a9c8>"
      ]
     },
     "execution_count": 38,
     "metadata": {},
     "output_type": "execute_result"
    },
    {
     "data": {
      "image/png": "[encoded data removed]",
      "text/plain": [
       "<Figure size 432x288 with 1 Axes>"
      ]
     },
     "metadata": {},
     "output_type": "display_data"
    }
   ],
   "source": [
    "plt.plot(r.history['loss'],label='loss')\n",
    "plt.plot(r.history['val_loss'],label='val_loss')\n",
    "plt.legend()"
   ]
  },
  {
   "cell_type": "code",
   "execution_count": 39,
   "metadata": {},
   "outputs": [
    {
     "data": {
      "text/plain": [
       "<matplotlib.legend.Legend at 0x1f757749348>"
      ]
     },
     "execution_count": 39,
     "metadata": {},
     "output_type": "execute_result"
    },
    {
     "data": {
      "image/png": "[encoded data removed]",
      "text/plain": [
       "<Figure size 432x288 with 1 Axes>"
      ]
     },
     "metadata": {},
     "output_type": "display_data"
    }
   ],
   "source": [
    "plt.plot(r.history['accuracy'],label='acc')\n",
    "plt.plot(r.history['val_accuracy'],label='val_acc')\n",
    "plt.legend()"
   ]
  },
  {
   "cell_type": "code",
   "execution_count": null,
   "metadata": {},
   "outputs": [],
   "source": []
  }
 ],
 "metadata": {
  "kernelspec": {
   "display_name": "Python [conda env:py3-TF2.0]",
   "language": "python",
   "name": "conda-env-py3-TF2.0-py"
  },
  "language_info": {
   "codemirror_mode": {
    "name": "ipython",
    "version": 3
   },
   "file_extension": ".py",
   "mimetype": "text/x-python",
   "name": "python",
   "nbconvert_exporter": "python",
   "pygments_lexer": "ipython3",
   "version": "3.7.7"
  }
 },
 "nbformat": 4,
 "nbformat_minor": 4
}
