{
 "cells": [
  {
   "cell_type": "code",
   "execution_count": 1,
   "metadata": {},
   "outputs": [],
   "source": [
    "import numpy as np\n",
    "from scipy import stats"
   ]
  },
  {
   "cell_type": "code",
   "execution_count": 2,
   "metadata": {},
   "outputs": [],
   "source": [
    "N =10\n",
    "a = np.random.randn(N) + 2\n",
    "b = np.random.randn(N)"
   ]
  },
  {
   "cell_type": "code",
   "execution_count": 3,
   "metadata": {},
   "outputs": [
    {
     "name": "stdout",
     "output_type": "stream",
     "text": [
      "t:\t 6.1512002105047054 p:\t 8.281007098265292e-06\n"
     ]
    }
   ],
   "source": [
    "var_a = a.var(ddof=1)\n",
    "var_b = b.var(ddof=1)\n",
    "s = np.sqrt((var_a+ var_b)/2)\n",
    "t = (a.mean() - b.mean()) / (s* np.sqrt(2.0/N))\n",
    "df = 2*N - 2\n",
    "p = 1 - stats.t.cdf(t,df=df)\n",
    "print('t:\\t', t, 'p:\\t', 2*p)"
   ]
  },
  {
   "cell_type": "code",
   "execution_count": 4,
   "metadata": {},
   "outputs": [],
   "source": [
    "t2, p2 = stats.ttest_ind(a,b)"
   ]
  },
  {
   "cell_type": "code",
   "execution_count": 5,
   "metadata": {},
   "outputs": [
    {
     "name": "stdout",
     "output_type": "stream",
     "text": [
      "t2:\t 6.1512002105047054 p2:\t 8.28100709822615e-06\n"
     ]
    }
   ],
   "source": [
    "print( 't2:\\t', t2, 'p2:\\t', p2)"
   ]
  },
  {
   "cell_type": "code",
   "execution_count": null,
   "metadata": {},
   "outputs": [],
   "source": []
  }
 ],
 "metadata": {
  "kernelspec": {
   "display_name": "Python 3",
   "language": "python",
   "name": "python3"
  },
  "language_info": {
   "codemirror_mode": {
    "name": "ipython",
    "version": 3
   },
   "file_extension": ".py",
   "mimetype": "text/x-python",
   "name": "python",
   "nbconvert_exporter": "python",
   "pygments_lexer": "ipython3",
   "version": "3.7.6"
  }
 },
 "nbformat": 4,
 "nbformat_minor": 4
}
